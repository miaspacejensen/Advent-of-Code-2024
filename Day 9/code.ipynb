{
 "cells": [
  {
   "cell_type": "code",
   "execution_count": 22,
   "metadata": {},
   "outputs": [],
   "source": [
    "def get_data(file_name):\n",
    "    with open(file_name, \"r\") as file:\n",
    "        text = file.read()\n",
    "    text = [int(val) for val in list(text)]\n",
    "    return text"
   ]
  },
  {
   "cell_type": "code",
   "execution_count": 81,
   "metadata": {},
   "outputs": [],
   "source": [
    "def get_block(disk_map):\n",
    "    free_space = False\n",
    "    block = []\n",
    "    i = 0\n",
    "    for val in disk_map:\n",
    "        if free_space == False:\n",
    "            block += val * [str(i)]\n",
    "            free_space = True\n",
    "            i+=1\n",
    "        else:\n",
    "            block += val * \".\"\n",
    "            free_space = False\n",
    "    return block"
   ]
  },
  {
   "cell_type": "code",
   "execution_count": 82,
   "metadata": {},
   "outputs": [],
   "source": [
    "def get_file_compacted_block(block):\n",
    "    i = 1\n",
    "    while True:\n",
    "        last_val = [val for val in block if val.isdigit()][-1]        \n",
    "        last_val_index = max(x for x, val in enumerate(block) if val.isdigit())\n",
    "        if not(all(x >= last_val_index for x, val in enumerate(block) if val==\".\")):\n",
    "            first_free_index = block.index(\".\")\n",
    "            block = block[:first_free_index] + [last_val] + block[first_free_index+1:]\n",
    "            block = block[:last_val_index] + [\".\"] + block[last_val_index+1:]\n",
    "            i += 1\n",
    "        else:\n",
    "            break\n",
    "    return block"
   ]
  },
  {
   "cell_type": "code",
   "execution_count": 83,
   "metadata": {},
   "outputs": [],
   "source": [
    "def calculate_checksum(file_name):\n",
    "    disk_map = get_data(file_name)\n",
    "    block = get_block(disk_map)\n",
    "    block = get_file_compacted_block(block)\n",
    "    total_sum = 0\n",
    "    for i, val in enumerate(block):\n",
    "        if val!=\".\":\n",
    "            total_sum += i * int(val)\n",
    "    return total_sum"
   ]
  },
  {
   "cell_type": "code",
   "execution_count": 84,
   "metadata": {},
   "outputs": [
    {
     "data": {
      "text/plain": [
       "1928"
      ]
     },
     "execution_count": 84,
     "metadata": {},
     "output_type": "execute_result"
    }
   ],
   "source": [
    "file_name = \"input_sample.txt\"\n",
    "calculate_checksum(file_name)"
   ]
  },
  {
   "cell_type": "code",
   "execution_count": null,
   "metadata": {},
   "outputs": [
    {
     "data": {
      "text/plain": [
       "6384282079460"
      ]
     },
     "execution_count": 89,
     "metadata": {},
     "output_type": "execute_result"
    }
   ],
   "source": [
    "file_name = \"input.txt\"\n",
    "calculate_checksum(file_name)"
   ]
  },
  {
   "cell_type": "markdown",
   "metadata": {},
   "source": [
    "Part 2"
   ]
  },
  {
   "cell_type": "code",
   "execution_count": null,
   "metadata": {},
   "outputs": [],
   "source": []
  }
 ],
 "metadata": {
  "kernelspec": {
   "display_name": "Python 3",
   "language": "python",
   "name": "python3"
  },
  "language_info": {
   "codemirror_mode": {
    "name": "ipython",
    "version": 3
   },
   "file_extension": ".py",
   "mimetype": "text/x-python",
   "name": "python",
   "nbconvert_exporter": "python",
   "pygments_lexer": "ipython3",
   "version": "3.11.3"
  }
 },
 "nbformat": 4,
 "nbformat_minor": 2
}
