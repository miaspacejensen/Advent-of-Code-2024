{
 "cells": [
  {
   "cell_type": "code",
   "execution_count": 22,
   "metadata": {},
   "outputs": [],
   "source": [
    "def get_data(file_name):\n",
    "    with open(file_name, \"r\") as file:\n",
    "        text = file.read()\n",
    "    text = [int(val) for val in list(text)]\n",
    "    return text"
   ]
  },
  {
   "cell_type": "code",
   "execution_count": 81,
   "metadata": {},
   "outputs": [],
   "source": [
    "def get_block(disk_map):\n",
    "    free_space = False\n",
    "    block = []\n",
    "    i = 0\n",
    "    for val in disk_map:\n",
    "        if free_space == False:\n",
    "            block += val * [str(i)]\n",
    "            free_space = True\n",
    "            i+=1\n",
    "        else:\n",
    "            block += val * \".\"\n",
    "            free_space = False\n",
    "    return block"
   ]
  },
  {
   "cell_type": "code",
   "execution_count": 82,
   "metadata": {},
   "outputs": [],
   "source": [
    "def get_file_compacted_block(block):\n",
    "    i = 1\n",
    "    while True:\n",
    "        last_val = [val for val in block if val.isdigit()][-1]        \n",
    "        last_val_index = max(x for x, val in enumerate(block) if val.isdigit())\n",
    "        if not(all(x >= last_val_index for x, val in enumerate(block) if val==\".\")):\n",
    "            first_free_index = block.index(\".\")\n",
    "            block = block[:first_free_index] + [last_val] + block[first_free_index+1:]\n",
    "            block = block[:last_val_index] + [\".\"] + block[last_val_index+1:]\n",
    "            i += 1\n",
    "        else:\n",
    "            break\n",
    "    return block"
   ]
  },
  {
   "cell_type": "code",
   "execution_count": 83,
   "metadata": {},
   "outputs": [],
   "source": [
    "def calculate_checksum(file_name):\n",
    "    disk_map = get_data(file_name)\n",
    "    block = get_block(disk_map)\n",
    "    block = get_file_compacted_block(block)\n",
    "    total_sum = 0\n",
    "    for i, val in enumerate(block):\n",
    "        if val!=\".\":\n",
    "            total_sum += i * int(val)\n",
    "    return total_sum"
   ]
  },
  {
   "cell_type": "code",
   "execution_count": 84,
   "metadata": {},
   "outputs": [
    {
     "data": {
      "text/plain": [
       "1928"
      ]
     },
     "execution_count": 84,
     "metadata": {},
     "output_type": "execute_result"
    }
   ],
   "source": [
    "file_name = \"input_sample.txt\"\n",
    "calculate_checksum(file_name)"
   ]
  },
  {
   "cell_type": "code",
   "execution_count": null,
   "metadata": {},
   "outputs": [
    {
     "data": {
      "text/plain": [
       "6384282079460"
      ]
     },
     "execution_count": 89,
     "metadata": {},
     "output_type": "execute_result"
    }
   ],
   "source": [
    "file_name = \"input.txt\"\n",
    "calculate_checksum(file_name)"
   ]
  },
  {
   "cell_type": "markdown",
   "metadata": {},
   "source": [
    "Part 2"
   ]
  },
  {
   "cell_type": "code",
   "execution_count": 567,
   "metadata": {},
   "outputs": [],
   "source": [
    "def get_block_p2(disk_map):\n",
    "    free_space = False\n",
    "    block = []\n",
    "    i = 0\n",
    "    for val in disk_map:\n",
    "        if free_space == False:\n",
    "            block += val * [str(i)]\n",
    "            free_space = True\n",
    "            i+=1\n",
    "        else:\n",
    "            block += val * [\".\"]\n",
    "            free_space = False\n",
    "    max_num = i-1\n",
    "    return block, max_num\n",
    "\n",
    "def replace_file(block, file):\n",
    "    start_index = block.index(file[0])\n",
    "    end_index = start_index + len(file)\n",
    "    for ind in range(start_index, end_index):\n",
    "        block[ind]=\".\"\n",
    "    return block\n",
    "\n",
    "def get_first_free_chunk(block, file):\n",
    "    len_file = len(file)\n",
    "    free = []\n",
    "    free_start_index = None\n",
    "    for i, val in enumerate(block):\n",
    "        if val == '.':\n",
    "            if not free:\n",
    "                free_start_index = i\n",
    "            free.append(val)\n",
    "            if len(free) >= len_file:\n",
    "                break\n",
    "        else:\n",
    "            free = []\n",
    "    if len(free) < len_file:\n",
    "        free = []\n",
    "        free_start_index = None\n",
    "    return free_start_index\n",
    "\n",
    "def insert_file(block, file):\n",
    "    len_file = len(file)\n",
    "    try: \n",
    "        free_start_index = get_first_free_chunk(block, file)\n",
    "        free_end_index = free_start_index + len_file\n",
    "        if block.index(file[0]) <= free_end_index:\n",
    "            return block, 0\n",
    "        for ind in range(free_start_index, free_end_index):\n",
    "            block[ind]=\"!\"+str(file[0])\n",
    "        return block, 1\n",
    "    except TypeError:\n",
    "        return block, 0\n",
    "\n",
    "def get_file_compacted_block_p2(block, max_num):\n",
    "    for id in reversed(range(1, max_num+1)):\n",
    "        file = [val for val in block if val==str(id)]\n",
    "        block, valid = insert_file(block, file)\n",
    "        if valid == 1:\n",
    "            block = replace_file(block, file)\n",
    "        print(block)\n",
    "    return block\n",
    "\n",
    "def calculate_checksum_p2(file_name):\n",
    "    disk_map = get_data(file_name)\n",
    "    block, max_num = get_block_p2(disk_map)\n",
    "    print(block)\n",
    "    block = get_file_compacted_block_p2(block, max_num)\n",
    "    total_sum = 0\n",
    "    for i, val in enumerate(block):\n",
    "        if val!=\".\":\n",
    "            if \"!\" in val:\n",
    "                val = val[1:]\n",
    "            total_sum += i * int(val)\n",
    "    return total_sum"
   ]
  },
  {
   "cell_type": "code",
   "execution_count": 569,
   "metadata": {},
   "outputs": [
    {
     "name": "stdout",
     "output_type": "stream",
     "text": [
      "['0', '0', '.', '.', '.', '1', '1', '1', '.', '.', '.', '2', '.', '.', '.', '3', '3', '3', '.', '4', '4', '.', '5', '5', '5', '5', '.', '6', '6', '6', '6', '.', '7', '7', '7', '.', '8', '8', '8', '8', '9', '9']\n",
      "['0', '0', '!9', '!9', '.', '1', '1', '1', '.', '.', '.', '2', '.', '.', '.', '3', '3', '3', '.', '4', '4', '.', '5', '5', '5', '5', '.', '6', '6', '6', '6', '.', '7', '7', '7', '.', '8', '8', '8', '8', '.', '.']\n",
      "['0', '0', '!9', '!9', '.', '1', '1', '1', '.', '.', '.', '2', '.', '.', '.', '3', '3', '3', '.', '4', '4', '.', '5', '5', '5', '5', '.', '6', '6', '6', '6', '.', '7', '7', '7', '.', '8', '8', '8', '8', '.', '.']\n",
      "['0', '0', '!9', '!9', '.', '1', '1', '1', '!7', '!7', '!7', '2', '.', '.', '.', '3', '3', '3', '.', '4', '4', '.', '5', '5', '5', '5', '.', '6', '6', '6', '6', '.', '.', '.', '.', '.', '8', '8', '8', '8', '.', '.']\n",
      "['0', '0', '!9', '!9', '.', '1', '1', '1', '!7', '!7', '!7', '2', '.', '.', '.', '3', '3', '3', '.', '4', '4', '.', '5', '5', '5', '5', '.', '6', '6', '6', '6', '.', '.', '.', '.', '.', '8', '8', '8', '8', '.', '.']\n",
      "['0', '0', '!9', '!9', '.', '1', '1', '1', '!7', '!7', '!7', '2', '.', '.', '.', '3', '3', '3', '.', '4', '4', '.', '5', '5', '5', '5', '.', '6', '6', '6', '6', '.', '.', '.', '.', '.', '8', '8', '8', '8', '.', '.']\n",
      "['0', '0', '!9', '!9', '.', '1', '1', '1', '!7', '!7', '!7', '2', '!4', '!4', '.', '3', '3', '3', '.', '.', '.', '.', '5', '5', '5', '5', '.', '6', '6', '6', '6', '.', '.', '.', '.', '.', '8', '8', '8', '8', '.', '.']\n",
      "['0', '0', '!9', '!9', '.', '1', '1', '1', '!7', '!7', '!7', '2', '!4', '!4', '.', '3', '3', '3', '.', '.', '.', '.', '5', '5', '5', '5', '.', '6', '6', '6', '6', '.', '.', '.', '.', '.', '8', '8', '8', '8', '.', '.']\n",
      "['0', '0', '!9', '!9', '!2', '1', '1', '1', '!7', '!7', '!7', '.', '!4', '!4', '.', '3', '3', '3', '.', '.', '.', '.', '5', '5', '5', '5', '.', '6', '6', '6', '6', '.', '.', '.', '.', '.', '8', '8', '8', '8', '.', '.']\n",
      "['0', '0', '!9', '!9', '!2', '1', '1', '1', '!7', '!7', '!7', '.', '!4', '!4', '.', '3', '3', '3', '.', '.', '.', '.', '5', '5', '5', '5', '.', '6', '6', '6', '6', '.', '.', '.', '.', '.', '8', '8', '8', '8', '.', '.']\n"
     ]
    },
    {
     "data": {
      "text/plain": [
       "2858"
      ]
     },
     "execution_count": 569,
     "metadata": {},
     "output_type": "execute_result"
    }
   ],
   "source": [
    "file_name = \"input_sample.txt\"\n",
    "calculate_checksum_p2(file_name)"
   ]
  },
  {
   "cell_type": "code",
   "execution_count": null,
   "metadata": {},
   "outputs": [],
   "source": [
    "file_name = \"input.txt\"\n",
    "calculate_checksum_p2(file_name)\n",
    "# 6408966987203 - too high"
   ]
  },
  {
   "cell_type": "code",
   "execution_count": null,
   "metadata": {},
   "outputs": [],
   "source": []
  }
 ],
 "metadata": {
  "kernelspec": {
   "display_name": "Python 3",
   "language": "python",
   "name": "python3"
  },
  "language_info": {
   "codemirror_mode": {
    "name": "ipython",
    "version": 3
   },
   "file_extension": ".py",
   "mimetype": "text/x-python",
   "name": "python",
   "nbconvert_exporter": "python",
   "pygments_lexer": "ipython3",
   "version": "3.11.3"
  }
 },
 "nbformat": 4,
 "nbformat_minor": 2
}
