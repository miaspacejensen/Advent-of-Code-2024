{
 "cells": [
  {
   "cell_type": "code",
   "execution_count": null,
   "metadata": {},
   "outputs": [],
   "source": [
    "def get_data(file_name):\n",
    "    with open(file_name, \"r\") as file:\n",
    "        text = file.read()\n",
    "    text = [int(val) for val in list(text)]\n",
    "    return text"
   ]
  },
  {
   "cell_type": "code",
   "execution_count": null,
   "metadata": {},
   "outputs": [],
   "source": [
    "def get_block(disk_map):\n",
    "    free_space = False\n",
    "    block = []\n",
    "    i = 0\n",
    "    for val in disk_map:\n",
    "        if free_space == False:\n",
    "            block += val * [str(i)]\n",
    "            free_space = True\n",
    "            i+=1\n",
    "        else:\n",
    "            block += val * \".\"\n",
    "            free_space = False\n",
    "    return block\n",
    "\n",
    "def get_file_compacted_block(block):\n",
    "    i = 1\n",
    "    while True:\n",
    "        last_val = [val for val in block if val.isdigit()][-1]        \n",
    "        last_val_index = max(x for x, val in enumerate(block) if val.isdigit())\n",
    "        if not(all(x >= last_val_index for x, val in enumerate(block) if val==\".\")):\n",
    "            first_free_index = block.index(\".\")\n",
    "            block = block[:first_free_index] + [last_val] + block[first_free_index+1:]\n",
    "            block = block[:last_val_index] + [\".\"] + block[last_val_index+1:]\n",
    "            i += 1\n",
    "        else:\n",
    "            break\n",
    "    return block\n",
    "\n",
    "def calculate_checksum(file_name):\n",
    "    disk_map = get_data(file_name)\n",
    "    block = get_block(disk_map)\n",
    "    block = get_file_compacted_block(block)\n",
    "    total_sum = 0\n",
    "    for i, val in enumerate(block):\n",
    "        if val!=\".\":\n",
    "            total_sum += i * int(val)\n",
    "    return total_sum"
   ]
  },
  {
   "cell_type": "code",
   "execution_count": null,
   "metadata": {},
   "outputs": [],
   "source": [
    "file_name = \"input_sample.txt\"\n",
    "calculate_checksum(file_name)"
   ]
  },
  {
   "cell_type": "code",
   "execution_count": null,
   "metadata": {},
   "outputs": [],
   "source": [
    "file_name = \"input.txt\"\n",
    "calculate_checksum(file_name)"
   ]
  },
  {
   "cell_type": "markdown",
   "metadata": {},
   "source": [
    "Part 2"
   ]
  },
  {
   "cell_type": "code",
   "execution_count": null,
   "metadata": {},
   "outputs": [],
   "source": [
    "def get_block(disk_map):\n",
    "    free_space = False\n",
    "    block = []\n",
    "    i = 0\n",
    "    for val in disk_map:\n",
    "        if free_space == False:\n",
    "            block += val * [str(i)]\n",
    "            free_space = True\n",
    "            i+=1\n",
    "        else:\n",
    "            block += val * [\".\"]\n",
    "            free_space = False\n",
    "    max_num = i-1\n",
    "    return block, max_num\n",
    "\n",
    "def get_first_free_chunk(block, file):\n",
    "    len_file = len(file)\n",
    "    free = []\n",
    "    free_start_index = None\n",
    "    for i, val in enumerate(block):\n",
    "        if val == '.':\n",
    "            if not free:\n",
    "                free_start_index = i\n",
    "            free.append(val)\n",
    "            if len(free) >= len_file:\n",
    "                break\n",
    "        else:\n",
    "            free = []\n",
    "    if len(free) < len_file:\n",
    "        return None\n",
    "    return free_start_index\n",
    "\n",
    "def switch_file_position(block, free_start_index, free_end_index, file_start_index, file_end_index):\n",
    "    if (free_end_index - free_start_index) != (file_end_index - file_start_index):\n",
    "        return block\n",
    "    else:\n",
    "        block[free_start_index:free_end_index], block[file_start_index:file_end_index] = block[file_start_index:file_end_index], block[free_start_index:free_end_index]\n",
    "        return block\n",
    "\n",
    "def get_file_compacted_block(block, max_num, show_blocks=False):\n",
    "    if show_blocks == True:\n",
    "        print(\"\".join(block))\n",
    "    for i in reversed(range(0, max_num+1)):\n",
    "        file = [val for val in block if val==str(i)]\n",
    "        file_start_index = block.index(file[0])\n",
    "        file_end_index = file_start_index + len(file)\n",
    "        free_start_index = get_first_free_chunk(block, file)\n",
    "        if free_start_index is not None:\n",
    "            free_end_index = free_start_index + len(file)\n",
    "            if free_end_index < file_start_index:\n",
    "                block = switch_file_position(block, free_start_index, free_end_index, file_start_index, file_end_index)\n",
    "                if show_blocks == True:\n",
    "                    print(\"\".join(block))\n",
    "    return block\n",
    "\n",
    "def calculate_checksum(file_name, show_blocks=False):\n",
    "    disk_map = get_data(file_name)\n",
    "    block, max_num = get_block(disk_map)\n",
    "    block = get_file_compacted_block(block, max_num, show_blocks)\n",
    "    total_sum = 0\n",
    "    for i, val in enumerate(block):\n",
    "        if val!=\".\":\n",
    "            total_sum += i * int(val)\n",
    "    return total_sum "
   ]
  },
  {
   "cell_type": "code",
   "execution_count": 76,
   "metadata": {},
   "outputs": [
    {
     "name": "stdout",
     "output_type": "stream",
     "text": [
      "00...111...2...333.44.5555.6666.777.888899\n",
      "0099.111...2...333.44.5555.6666.777.8888..\n",
      "0099.1117772...333.44.5555.6666.....8888..\n",
      "0099.111777244.333....5555.6666.....8888..\n",
      "00992111777.44.333....5555.6666.....8888..\n"
     ]
    },
    {
     "data": {
      "text/plain": [
       "2858"
      ]
     },
     "execution_count": 76,
     "metadata": {},
     "output_type": "execute_result"
    }
   ],
   "source": [
    "file_name = \"input_sample.txt\"\n",
    "calculate_checksum(file_name, True)"
   ]
  }
 ],
 "metadata": {
  "kernelspec": {
   "display_name": "Python 3",
   "language": "python",
   "name": "python3"
  },
  "language_info": {
   "codemirror_mode": {
    "name": "ipython",
    "version": 3
   },
   "file_extension": ".py",
   "mimetype": "text/x-python",
   "name": "python",
   "nbconvert_exporter": "python",
   "pygments_lexer": "ipython3",
   "version": "3.11.3"
  }
 },
 "nbformat": 4,
 "nbformat_minor": 2
}
