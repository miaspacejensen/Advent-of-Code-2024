{
 "cells": [
  {
   "cell_type": "code",
   "execution_count": 1,
   "metadata": {},
   "outputs": [],
   "source": [
    "import itertools"
   ]
  },
  {
   "cell_type": "code",
   "execution_count": 2,
   "metadata": {},
   "outputs": [],
   "source": [
    "def get_data(file_name):\n",
    "    with open(file_name, \"r\") as file:\n",
    "        text = file.read()\n",
    "    lines = text.split(\"\\n\")\n",
    "    grid = [list(line) for line in lines]\n",
    "    return grid "
   ]
  },
  {
   "cell_type": "code",
   "execution_count": 3,
   "metadata": {},
   "outputs": [],
   "source": [
    "def display_grid(grid):\n",
    "    for row in grid:\n",
    "        print(\"\".join(row))"
   ]
  },
  {
   "cell_type": "code",
   "execution_count": 4,
   "metadata": {},
   "outputs": [],
   "source": [
    "def get_pos_pairs(grid, freq):\n",
    "    positions = []\n",
    "    for r, row in enumerate(grid):\n",
    "        for c, _ in enumerate(row):\n",
    "            if grid[r][c] == freq:\n",
    "                positions.append((r,c))\n",
    "    pos_combos = list(itertools.combinations(positions, 2))\n",
    "    return pos_combos"
   ]
  },
  {
   "cell_type": "code",
   "execution_count": 5,
   "metadata": {},
   "outputs": [],
   "source": [
    "def get_hash_positions(pos_pair):\n",
    "    pos1, pos2 = pos_pair\n",
    "    r_diff = pos1[0] - pos2[0]\n",
    "    c_diff = pos1[1] - pos2[1]\n",
    "    new_pos1 = (pos1[0] + r_diff, pos1[1] + c_diff)\n",
    "    new_pos2 = (pos2[0] - r_diff, pos2[1] - c_diff)\n",
    "    return(new_pos1, new_pos2) "
   ]
  },
  {
   "cell_type": "code",
   "execution_count": 6,
   "metadata": {},
   "outputs": [],
   "source": [
    "def count_antinodes(file_name, show_grid=False):\n",
    "\n",
    "    grid = get_data(file_name)\n",
    "    unique_freqs = set(val for line in grid for val in line if val != \".\") \n",
    "\n",
    "    antinode_positions = set()\n",
    "    for freq in unique_freqs:\n",
    "        pos_pairs = get_pos_pairs(grid, freq)\n",
    "        for pos_pair in pos_pairs:\n",
    "            new_pos_set = get_hash_positions(pos_pair)\n",
    "            for r, c in new_pos_set:\n",
    "                if 0 <= r < len(grid) and 0 <= c < len(grid[0]):\n",
    "                    antinode_positions.add((r,c))\n",
    "                    if grid[r][c] == \".\":\n",
    "                        grid[r][c] = \"#\"\n",
    "    \n",
    "    if show_grid == True: display_grid(grid)\n",
    "    \n",
    "    return len(antinode_positions) "
   ]
  },
  {
   "cell_type": "code",
   "execution_count": 7,
   "metadata": {},
   "outputs": [
    {
     "name": "stdout",
     "output_type": "stream",
     "text": [
      "......#....#\n",
      "...#....0...\n",
      "....#0....#.\n",
      "..#....0....\n",
      "....0....#..\n",
      ".#....A.....\n",
      "...#........\n",
      "#......#....\n",
      "........A...\n",
      ".........A..\n",
      "..........#.\n",
      "..........#.\n"
     ]
    },
    {
     "data": {
      "text/plain": [
       "14"
      ]
     },
     "execution_count": 7,
     "metadata": {},
     "output_type": "execute_result"
    }
   ],
   "source": [
    "file_name = \"input_sample.txt\"\n",
    "count_antinodes(file_name, True) "
   ]
  },
  {
   "cell_type": "code",
   "execution_count": 8,
   "metadata": {},
   "outputs": [
    {
     "name": "stdout",
     "output_type": "stream",
     "text": [
      "..........\n",
      "...#......\n",
      "..........\n",
      "....a.....\n",
      "..........\n",
      ".....a....\n",
      "..........\n",
      "......#...\n",
      "..........\n",
      "..........\n"
     ]
    },
    {
     "data": {
      "text/plain": [
       "2"
      ]
     },
     "execution_count": 8,
     "metadata": {},
     "output_type": "execute_result"
    }
   ],
   "source": [
    "file_name = \"input_sample2.txt\"\n",
    "count_antinodes(file_name, True)"
   ]
  },
  {
   "cell_type": "code",
   "execution_count": 9,
   "metadata": {},
   "outputs": [
    {
     "name": "stdout",
     "output_type": "stream",
     "text": [
      "..........\n",
      "...#......\n",
      "#.........\n",
      "....a.....\n",
      "........a.\n",
      ".....a....\n",
      "..#.......\n",
      "......#...\n",
      "..........\n",
      "..........\n"
     ]
    },
    {
     "data": {
      "text/plain": [
       "4"
      ]
     },
     "execution_count": 9,
     "metadata": {},
     "output_type": "execute_result"
    }
   ],
   "source": [
    "file_name = \"input_sample3.txt\"\n",
    "count_antinodes(file_name, True)"
   ]
  },
  {
   "cell_type": "code",
   "execution_count": 10,
   "metadata": {},
   "outputs": [
    {
     "name": "stdout",
     "output_type": "stream",
     "text": [
      "..........\n",
      "...#......\n",
      "#.........\n",
      "....a.....\n",
      "........a.\n",
      ".....a....\n",
      "..#.......\n",
      "......A...\n",
      "..........\n",
      "..........\n"
     ]
    },
    {
     "data": {
      "text/plain": [
       "4"
      ]
     },
     "execution_count": 10,
     "metadata": {},
     "output_type": "execute_result"
    }
   ],
   "source": [
    "file_name = \"input_sample4.txt\"\n",
    "count_antinodes(file_name, True)"
   ]
  },
  {
   "cell_type": "code",
   "execution_count": 11,
   "metadata": {},
   "outputs": [
    {
     "data": {
      "text/plain": [
       "305"
      ]
     },
     "execution_count": 11,
     "metadata": {},
     "output_type": "execute_result"
    }
   ],
   "source": [
    "file_name = \"input.txt\"\n",
    "count_antinodes(file_name)"
   ]
  },
  {
   "cell_type": "markdown",
   "metadata": {},
   "source": [
    "Part 2"
   ]
  },
  {
   "cell_type": "code",
   "execution_count": null,
   "metadata": {},
   "outputs": [],
   "source": [
    "def get_hash_positions(grid, pos_pair):\n",
    "    pos1, pos2 = pos_pair\n",
    "    r_diff = pos1[0] - pos2[0]\n",
    "    c_diff = pos1[1] - pos2[1]\n",
    "    i = 1\n",
    "    all_new_pos = []\n",
    "    pos1_lim = False\n",
    "    pos2_lim = False\n",
    "    while True:\n",
    "        new_pos1 = (pos1[0] + (i*r_diff), pos1[1] + (i*c_diff))\n",
    "        new_pos2 = (pos2[0] - (i*r_diff), pos2[1] - (i*c_diff))\n",
    "        if 0 <= new_pos1[0] < len(grid) and 0 <= new_pos1[1] < len(grid[0]):\n",
    "            all_new_pos.append(new_pos1)\n",
    "        else:\n",
    "            pos1_lim = True\n",
    "        if 0 <= new_pos2[0] < len(grid) and 0 <= new_pos2[1] < len(grid[0]):\n",
    "            all_new_pos.append(new_pos2)\n",
    "        else:\n",
    "            pos2_lim = True\n",
    "        if pos1_lim and pos2_lim:\n",
    "            break\n",
    "        else:\n",
    "            i+=1\n",
    "    return list(pos_pair) + all_new_pos "
   ]
  },
  {
   "cell_type": "code",
   "execution_count": 13,
   "metadata": {},
   "outputs": [],
   "source": [
    "def count_antinodes(file_name, show_grid=False):\n",
    "\n",
    "    grid = get_data(file_name)\n",
    "    unique_freqs = set(val for line in grid for val in line if val != \".\") \n",
    "\n",
    "    antinode_positions = set()\n",
    "    for freq in unique_freqs:\n",
    "        pos_pairs = get_pos_pairs(grid, freq)\n",
    "        for pos_pair in pos_pairs:\n",
    "            new_pos_set = get_hash_positions(grid, pos_pair)\n",
    "            for r, c in new_pos_set:\n",
    "                if 0 <= r < len(grid) and 0 <= c < len(grid[0]):\n",
    "                    antinode_positions.add((r,c))\n",
    "                    if grid[r][c] == \".\" or grid[r][c] == \"#\":\n",
    "                        grid[r][c] = \"#\"\n",
    "    \n",
    "    if show_grid == True: display_grid(grid)\n",
    "    \n",
    "    return len(antinode_positions)"
   ]
  },
  {
   "cell_type": "code",
   "execution_count": 14,
   "metadata": {},
   "outputs": [
    {
     "name": "stdout",
     "output_type": "stream",
     "text": [
      "T....#....\n",
      "...T......\n",
      ".T....#...\n",
      ".........#\n",
      "..#.......\n",
      "..........\n",
      "...#......\n",
      "..........\n",
      "....#.....\n",
      "..........\n"
     ]
    },
    {
     "data": {
      "text/plain": [
       "9"
      ]
     },
     "execution_count": 14,
     "metadata": {},
     "output_type": "execute_result"
    }
   ],
   "source": [
    "file_name = \"input_sample5.txt\"\n",
    "count_antinodes(file_name, True)"
   ]
  },
  {
   "cell_type": "code",
   "execution_count": 15,
   "metadata": {},
   "outputs": [
    {
     "name": "stdout",
     "output_type": "stream",
     "text": [
      "##....#....#\n",
      ".#.#....0...\n",
      "..#.#0....#.\n",
      "..##...0....\n",
      "....0....#..\n",
      ".#...#A....#\n",
      "...#..#.....\n",
      "#....#.#....\n",
      "..#.....A...\n",
      "....#....A..\n",
      ".#........#.\n",
      "...#......##\n"
     ]
    },
    {
     "data": {
      "text/plain": [
       "34"
      ]
     },
     "execution_count": 15,
     "metadata": {},
     "output_type": "execute_result"
    }
   ],
   "source": [
    "file_name = \"input_sample.txt\"\n",
    "count_antinodes(file_name, True)"
   ]
  },
  {
   "cell_type": "code",
   "execution_count": 16,
   "metadata": {},
   "outputs": [
    {
     "data": {
      "text/plain": [
       "1150"
      ]
     },
     "execution_count": 16,
     "metadata": {},
     "output_type": "execute_result"
    }
   ],
   "source": [
    "file_name = \"input.txt\"\n",
    "count_antinodes(file_name)"
   ]
  },
  {
   "cell_type": "code",
   "execution_count": null,
   "metadata": {},
   "outputs": [],
   "source": []
  }
 ],
 "metadata": {
  "kernelspec": {
   "display_name": "Python 3",
   "language": "python",
   "name": "python3"
  },
  "language_info": {
   "codemirror_mode": {
    "name": "ipython",
    "version": 3
   },
   "file_extension": ".py",
   "mimetype": "text/x-python",
   "name": "python",
   "nbconvert_exporter": "python",
   "pygments_lexer": "ipython3",
   "version": "3.11.3"
  }
 },
 "nbformat": 4,
 "nbformat_minor": 2
}
