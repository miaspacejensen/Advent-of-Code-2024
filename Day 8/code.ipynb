{
 "cells": [
  {
   "cell_type": "code",
   "execution_count": 15,
   "metadata": {},
   "outputs": [],
   "source": [
    "import itertools"
   ]
  },
  {
   "cell_type": "code",
   "execution_count": 16,
   "metadata": {},
   "outputs": [],
   "source": [
    "def get_data(file_name):\n",
    "    with open(file_name, \"r\") as file:\n",
    "        text = file.read()\n",
    "    lines = text.split(\"\\n\")\n",
    "    grid = [list(line) for line in lines]\n",
    "    return grid "
   ]
  },
  {
   "cell_type": "code",
   "execution_count": 17,
   "metadata": {},
   "outputs": [],
   "source": [
    "def display_grid(grid):\n",
    "    for row in grid:\n",
    "        print(\"\".join(row))"
   ]
  },
  {
   "cell_type": "code",
   "execution_count": 18,
   "metadata": {},
   "outputs": [],
   "source": [
    "def get_position_combinations(positions):\n",
    "    return list(itertools.combinations(positions, 2))"
   ]
  },
  {
   "cell_type": "code",
   "execution_count": 19,
   "metadata": {},
   "outputs": [],
   "source": [
    "def get_pos_pairs(grid, freq):\n",
    "    positions = []\n",
    "    for r, row in enumerate(grid):\n",
    "        for c, col in enumerate(row):\n",
    "            if grid[r][c] == freq:\n",
    "                positions.append((r,c))\n",
    "    return get_position_combinations(positions)"
   ]
  },
  {
   "cell_type": "code",
   "execution_count": 20,
   "metadata": {},
   "outputs": [],
   "source": [
    "def get_hash_positions(pos_pair):\n",
    "    pos1, pos2 = pos_pair\n",
    "    r_diff = pos1[0] - pos2[0]\n",
    "    c_diff = pos1[1] - pos2[1]\n",
    "    new_pos1 = (pos1[0] + r_diff, pos1[1] + c_diff)\n",
    "    new_pos2 = (pos2[0] - r_diff, pos2[1] - c_diff)\n",
    "    return(new_pos1, new_pos2)"
   ]
  },
  {
   "cell_type": "code",
   "execution_count": 58,
   "metadata": {},
   "outputs": [],
   "source": [
    "def count_antinodes(file_name, show_grid=False):\n",
    "\n",
    "    grid = get_data(file_name)\n",
    "    unique_freqs = set(val for line in grid for val in line if val != \".\") \n",
    "\n",
    "    antinode_positions = set()\n",
    "    for freq in unique_freqs:\n",
    "        pos_pairs = get_pos_pairs(grid, freq)\n",
    "        for pos_pair in pos_pairs:\n",
    "            new_pos_pair = get_hash_positions(pos_pair)\n",
    "            for r, c in new_pos_pair:\n",
    "                if 0 <= r < len(grid) and 0 <= c < len(grid[0]):\n",
    "                    antinode_positions.add((r,c))\n",
    "                    if grid[r][c] == \".\" or grid[r][c] == \"#\":\n",
    "                        grid[r][c] = \"#\"\n",
    "    \n",
    "    if show_grid == True: display_grid(grid)\n",
    "    \n",
    "    return len(antinode_positions)"
   ]
  },
  {
   "cell_type": "code",
   "execution_count": 59,
   "metadata": {},
   "outputs": [
    {
     "name": "stdout",
     "output_type": "stream",
     "text": [
      "......#....#\n",
      "...#....0...\n",
      "....#0....#.\n",
      "..#....0....\n",
      "....0....#..\n",
      ".#....A.....\n",
      "...#........\n",
      "#......#....\n",
      "........A...\n",
      ".........A..\n",
      "..........#.\n",
      "..........#.\n"
     ]
    },
    {
     "data": {
      "text/plain": [
       "14"
      ]
     },
     "execution_count": 59,
     "metadata": {},
     "output_type": "execute_result"
    }
   ],
   "source": [
    "file_name = \"input_sample.txt\"\n",
    "count_antinodes(file_name, True)"
   ]
  },
  {
   "cell_type": "code",
   "execution_count": 60,
   "metadata": {},
   "outputs": [
    {
     "name": "stdout",
     "output_type": "stream",
     "text": [
      "..........\n",
      "...#......\n",
      "..........\n",
      "....a.....\n",
      "..........\n",
      ".....a....\n",
      "..........\n",
      "......#...\n",
      "..........\n",
      "..........\n"
     ]
    },
    {
     "data": {
      "text/plain": [
       "2"
      ]
     },
     "execution_count": 60,
     "metadata": {},
     "output_type": "execute_result"
    }
   ],
   "source": [
    "file_name = \"input_sample2.txt\"\n",
    "count_antinodes(file_name, True)"
   ]
  },
  {
   "cell_type": "code",
   "execution_count": 61,
   "metadata": {},
   "outputs": [
    {
     "name": "stdout",
     "output_type": "stream",
     "text": [
      "..........\n",
      "...#......\n",
      "#.........\n",
      "....a.....\n",
      "........a.\n",
      ".....a....\n",
      "..#.......\n",
      "......#...\n",
      "..........\n",
      "..........\n"
     ]
    },
    {
     "data": {
      "text/plain": [
       "4"
      ]
     },
     "execution_count": 61,
     "metadata": {},
     "output_type": "execute_result"
    }
   ],
   "source": [
    "file_name = \"input_sample3.txt\"\n",
    "count_antinodes(file_name, True)"
   ]
  },
  {
   "cell_type": "code",
   "execution_count": 62,
   "metadata": {},
   "outputs": [
    {
     "name": "stdout",
     "output_type": "stream",
     "text": [
      "..........\n",
      "...#......\n",
      "#.........\n",
      "....a.....\n",
      "........a.\n",
      ".....a....\n",
      "..#.......\n",
      "......A...\n",
      "..........\n",
      "..........\n"
     ]
    },
    {
     "data": {
      "text/plain": [
       "4"
      ]
     },
     "execution_count": 62,
     "metadata": {},
     "output_type": "execute_result"
    }
   ],
   "source": [
    "file_name = \"input_sample4.txt\"\n",
    "count_antinodes(file_name, True)"
   ]
  },
  {
   "cell_type": "code",
   "execution_count": 65,
   "metadata": {},
   "outputs": [
    {
     "name": "stdout",
     "output_type": "stream",
     "text": [
      "T....#....\n",
      "...T......\n",
      ".T....#...\n",
      "..........\n",
      "..#.......\n",
      "..........\n",
      "..........\n",
      "..........\n",
      "..........\n",
      "..........\n"
     ]
    },
    {
     "data": {
      "text/plain": [
       "3"
      ]
     },
     "execution_count": 65,
     "metadata": {},
     "output_type": "execute_result"
    }
   ],
   "source": [
    "file_name = \"input_sample5.txt\"\n",
    "count_antinodes(file_name, True)"
   ]
  },
  {
   "cell_type": "code",
   "execution_count": null,
   "metadata": {},
   "outputs": [
    {
     "name": "stdout",
     "output_type": "stream",
     "text": [
      "...........6.b.#...#...........................#..\n",
      "........6..#........#....8#...#.#..............##.\n",
      ".#Y..#..#.........................#.......o.......\n",
      "....V##.j............B............#c#..#.#...#....\n",
      ".......#....8......#..X.#.....L...................\n",
      ".....j..v6#......3#L.......#..........c...........\n",
      "..Mj....#p3.......b......#.Z....................J#\n",
      ".###......M...X.....#..................#.#.....#..\n",
      "V............#.v..#...p.........Z.........c.#.....\n",
      "........#.##..3............##..#......##..........\n",
      "......#V.....#U3.#..#........c.....#.#............\n",
      "..........b..v.M#U8...#.....#...#.............#...\n",
      ".........#j...#.###8#..##........#.......J........\n",
      ".##..##..#Y#.....q..#.....LH..Z...D...#.......y..#\n",
      "..2Y....#..#PX......6........#...#.....BQ.........\n",
      "...0.Y.......#......#XP...#.#.....w.#.............\n",
      "..#....#.U......#2.........###..#oH.y.............\n",
      "0....#.#..#...#9..#....#U.###.............#.......\n",
      "..##..#....P...#.#......#.W.#...#.z...Oy..........\n",
      ".#........#....#...t...p.W#.o............#Q.......\n",
      ".....S......#..........t###..Q...#B.......#.......\n",
      "S#k.......###...#....V..W..#p...##..H...O......m..\n",
      "..#.S.h#..#....#......#W.....#.................O..\n",
      "..h..P.2#....#.....#.Z##....#..###.J..............\n",
      "...##....k.......5v...#...q...t.s.#.......#.#.....\n",
      ".....Q.....h.........#................J...B.......\n",
      "....#...0#........l.#........#........#...........\n",
      ".S..............#...#...........#......#.#........\n",
      "........#.......#............M#......#............\n",
      "2............#....#e.#...o.....y..#......#...#....\n",
      "#..........#....k......##.........................\n",
      ".....#4......k#...t...s.q.#.......................\n",
      ".4........#.#.........#..q#........#.#............\n",
      "..#.........#..........z..#.E...........#.........\n",
      "..#..........0##...d......#..#....#.......#.......\n",
      "7..........D..#.#...z...#...#......#......#.......\n",
      ".......D..5...#..7..9..##........#.#.........#.#..\n",
      "...#..5..#..##..##.....##E..#.....#.........#..#..\n",
      "D.#...#...#.#..K.#....d..9E........#.w.....1..C...\n",
      ".......K..x.........d.#..s.#.##.#....l#..#........\n",
      "........7......#..#..####.....#u..#C..............\n",
      "..K........x..........#.#.9..C...u................\n",
      "4............#.s.##....####....#...##....l...T..w.\n",
      ".......5....#7...#......#...#...m......T......1...\n",
      "............#.#......#.....E#..z.m................\n",
      ".....#..........#.................#...u...C#.#....\n",
      "..................#..........em.#.................\n",
      "............................#.................T...\n",
      "...#........#.......x......#................e....#\n",
      "........#...................#1e#...w....l..#....#.\n"
     ]
    },
    {
     "data": {
      "text/plain": [
       "305"
      ]
     },
     "execution_count": 64,
     "metadata": {},
     "output_type": "execute_result"
    }
   ],
   "source": [
    "file_name = \"input.txt\"\n",
    "count_antinodes(file_name, True)"
   ]
  },
  {
   "cell_type": "markdown",
   "metadata": {},
   "source": [
    "Part 2"
   ]
  },
  {
   "cell_type": "code",
   "execution_count": 158,
   "metadata": {},
   "outputs": [
    {
     "data": {
      "text/plain": [
       "[(0, 0), (1, 3), (2, 6), (3, 9)]"
      ]
     },
     "execution_count": 158,
     "metadata": {},
     "output_type": "execute_result"
    }
   ],
   "source": [
    "def get_hash_positions(grid, pos_pair):\n",
    "    pos1, pos2 = pos_pair\n",
    "    r_diff = pos1[0] - pos2[0]\n",
    "    c_diff = pos1[1] - pos2[1]\n",
    "    i = 1\n",
    "    all_new_pos = []\n",
    "    pos1_lim = False\n",
    "    pos2_lim = False\n",
    "    while True:\n",
    "        new_pos1 = (pos1[0] + (i*r_diff), pos1[1] + (i*c_diff))\n",
    "        new_pos2 = (pos2[0] - (i*r_diff), pos2[1] - (i*c_diff))\n",
    "        if 0 <= new_pos1[0] < len(grid) and 0 <= new_pos1[1] < len(grid[0]):\n",
    "            all_new_pos.append(new_pos1)\n",
    "        else:\n",
    "            pos1_lim = True\n",
    "        if 0 <= new_pos2[0] < len(grid) and 0 <= new_pos2[1] < len(grid[0]):\n",
    "            all_new_pos.append(new_pos2)\n",
    "        else:\n",
    "            pos2_lim = True\n",
    "        if pos1_lim and pos2_lim:\n",
    "            break\n",
    "        else:\n",
    "            i+=1\n",
    "    return list(pos_pair) + all_new_pos\n",
    "\n",
    "file_name = \"input_sample5.txt\"\n",
    "grid = get_data(file_name)\n",
    "get_hash_positions(grid, ((0,0), (1,3)))"
   ]
  },
  {
   "cell_type": "code",
   "execution_count": 159,
   "metadata": {},
   "outputs": [],
   "source": [
    "def count_antinodes(file_name, show_grid=False):\n",
    "\n",
    "    grid = get_data(file_name)\n",
    "    unique_freqs = set(val for line in grid for val in line if val != \".\") \n",
    "\n",
    "    antinode_positions = set()\n",
    "    for freq in unique_freqs:\n",
    "        pos_pairs = get_pos_pairs(grid, freq)\n",
    "        for pos_pair in pos_pairs:\n",
    "            new_pos_pair = get_hash_positions(grid, pos_pair)\n",
    "            for r, c in new_pos_pair:\n",
    "                if 0 <= r < len(grid) and 0 <= c < len(grid[0]):\n",
    "                    antinode_positions.add((r,c))\n",
    "                    if grid[r][c] == \".\" or grid[r][c] == \"#\":\n",
    "                        grid[r][c] = \"#\"\n",
    "    \n",
    "    if show_grid == True: display_grid(grid)\n",
    "    \n",
    "    return len(antinode_positions)"
   ]
  },
  {
   "cell_type": "code",
   "execution_count": 160,
   "metadata": {},
   "outputs": [
    {
     "name": "stdout",
     "output_type": "stream",
     "text": [
      "T....#....\n",
      "...T......\n",
      ".T....#...\n",
      ".........#\n",
      "..#.......\n",
      "..........\n",
      "...#......\n",
      "..........\n",
      "....#.....\n",
      "..........\n"
     ]
    },
    {
     "data": {
      "text/plain": [
       "9"
      ]
     },
     "execution_count": 160,
     "metadata": {},
     "output_type": "execute_result"
    }
   ],
   "source": [
    "file_name = \"input_sample5.txt\"\n",
    "count_antinodes(file_name, True)"
   ]
  },
  {
   "cell_type": "code",
   "execution_count": 161,
   "metadata": {},
   "outputs": [
    {
     "name": "stdout",
     "output_type": "stream",
     "text": [
      "##....#....#\n",
      ".#.#....0...\n",
      "..#.#0....#.\n",
      "..##...0....\n",
      "....0....#..\n",
      ".#...#A....#\n",
      "...#..#.....\n",
      "#....#.#....\n",
      "..#.....A...\n",
      "....#....A..\n",
      ".#........#.\n",
      "...#......##\n"
     ]
    },
    {
     "data": {
      "text/plain": [
       "34"
      ]
     },
     "execution_count": 161,
     "metadata": {},
     "output_type": "execute_result"
    }
   ],
   "source": [
    "file_name = \"input_sample.txt\"\n",
    "count_antinodes(file_name, True)"
   ]
  },
  {
   "cell_type": "code",
   "execution_count": 162,
   "metadata": {},
   "outputs": [
    {
     "name": "stdout",
     "output_type": "stream",
     "text": [
      "..#..#.#...6#b.#...#......#..#.#......#.....##.#..\n",
      "#.#...#.6..#.##.....#...#8#.#.#.###..#..#..###.##.\n",
      ".#Y.##.###.#.#####.##.............#..##...o#.....#\n",
      "..#.V##.j##..........B#.....##.####c#..####..#....\n",
      "......##.#.#8#.#..##..X.#.....L....##...##........\n",
      ".....j..v6#.#.#..3#L.......##.#.#.....c##..#.....#\n",
      "..Mj....#p3####...b..#...#.Z..#...##..##........J#\n",
      "####.#....M###X##...#....#.....#.#...###.#....###.\n",
      "V##.....#..#.#.v..#..#p###..#...Z#..###...c.##....\n",
      "..#.....#.###.3.###.#.....###.###..##.##....#.#...\n",
      ".#.#..#V..#..#U3.##.#......#.c###.##.#.....#......\n",
      "#..##..#.#b..v.M#U8..##.#...###.###.......#...##..\n",
      "##.#.#...#j...#.###8#..##.....#.###....#.J#..##.#.\n",
      ".##..##.##Y#.....q#.#..#..LH##Z##.D.#.#.#.##..y..#\n",
      "..2Y#..##..#PX.#.#.#6##...#..###.#.#..#BQ....#.#..\n",
      "#..0#Y..#....#..#..##XP#..#####...w.#.............\n",
      "..#.##.#.U......#2.#.#.#.#.####.#oH.y....#........\n",
      "0..#.########.#9..#.#.##U.###......###..#.#....#..\n",
      "..##..##.#.P...#.#.#..####W##..##.z#..Oy.....#....\n",
      "##.#...##.#.##.##.#t#..p#W#.o#.#.........#Q.#...##\n",
      "...#.S.###.#####...#...t####.Q...#B.......###.##..\n",
      "S#k..#..#######.##...V.#W.##p.#.##..H#..O#.##..m..\n",
      "..##S.h#..##...##..#.##W.#.#.###........##...##O##\n",
      "..h.#P.2#..###..#..##Z##..#.#.#####J.##.......##..\n",
      "...##....k..##...5v.#####.q#.#t#s##....#.##.#...##\n",
      ".####Q#..##h.##.#.#####..#....###.###.J...B##...#.\n",
      "..###...0#...###..l###..#..###.#.#.#..#...#.#.##..\n",
      ".S..##.....#...####.##..###..#..#.######.####.#...\n",
      "##.....##..#.#..##.#.#####..#M##.#.#.#.#..##......\n",
      "2#...#...#...#.####e###..o..##.y#####.#.##..###.#.\n",
      "#....#.##..#..##k#####.###..#..#..#####.#.#...#...\n",
      "....##4.#..#.k#.##t###s.q.##..#....####.#...#..#..\n",
      ".4.....#..#.##.#....#####q#.......####.#.####.....\n",
      "..###..#...##...####.##z.##.E##.#.....#.##...####.\n",
      "..###..#..##.0##..#d..##.###.##...#...##.###.#.##.\n",
      "7#...#..###D..#.##..z#.####.#....#.#...##.#..#....\n",
      ".......D##5..##..7..9..####..#.#.#.#.##.####.#.#..\n",
      "...#..5###..##..##.#...##E#.#.##..#.#.....#.#..#.#\n",
      "D.#..###..###..K.#.##.d..9E#...#...#.w....#1.#C#..\n",
      "...#.##K..x.#.###...d.#..s.####.#....l#..##.#.#...\n",
      "...###..7..#..##..#..####..####u.##C#..#....##.#..\n",
      "..K##......x..#.###...#.##9..C#..u#...#...#.#.#.#.\n",
      "4.##.##.###..##s.##....####...##...##.#..l...T.#w#\n",
      ".####..5##..#7...##.....#...#..#m...##.T.#....1.##\n",
      "##........######.....#..#..E#..z#m...#.##......#.#\n",
      "###.##..#...##..#..#####...#.....##...u..#C#.#....\n",
      "..#.####..........#..#......#em.#.##...#...####.#.\n",
      "..#.#......#..##............#......##...#..#.#T.##\n",
      "..##..#..#..#...#.#.x.##...#........##...#..e#.#.#\n",
      "#..#.#..#.#....##..##.##....#1e#...w.##.l.##....##\n"
     ]
    },
    {
     "data": {
      "text/plain": [
       "1150"
      ]
     },
     "execution_count": 162,
     "metadata": {},
     "output_type": "execute_result"
    }
   ],
   "source": [
    "file_name = \"input.txt\"\n",
    "count_antinodes(file_name, True)"
   ]
  }
 ],
 "metadata": {
  "kernelspec": {
   "display_name": "Python 3",
   "language": "python",
   "name": "python3"
  },
  "language_info": {
   "codemirror_mode": {
    "name": "ipython",
    "version": 3
   },
   "file_extension": ".py",
   "mimetype": "text/x-python",
   "name": "python",
   "nbconvert_exporter": "python",
   "pygments_lexer": "ipython3",
   "version": "3.11.3"
  }
 },
 "nbformat": 4,
 "nbformat_minor": 2
}
