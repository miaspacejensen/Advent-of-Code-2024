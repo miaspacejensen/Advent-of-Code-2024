{
 "cells": [
  {
   "cell_type": "code",
   "execution_count": 1,
   "metadata": {},
   "outputs": [],
   "source": [
    "def get_data(file_name):\n",
    "    with open(file_name, \"r\") as file:\n",
    "        text = file.read()\n",
    "    lines = text.split(\"\\n\")\n",
    "    grid = [list(line) for line in lines]\n",
    "    return grid"
   ]
  },
  {
   "cell_type": "code",
   "execution_count": null,
   "metadata": {},
   "outputs": [],
   "source": [
    "def find_guard(grid):\n",
    "    guard_dic = {\n",
    "        \">\": 0,\n",
    "        \"v\": 1,\n",
    "        \"<\": 2, \n",
    "        \"^\": 3\n",
    "    }\n",
    "    for r, row in enumerate(grid):\n",
    "        for c, col in enumerate(row):\n",
    "            for g in list(guard_dic.keys()):\n",
    "                val = grid[r][c]\n",
    "                if g == grid[r][c]:\n",
    "                    pos = (r, c)\n",
    "                    dir = guard_dic[val]\n",
    "                    return pos, dir\n"
   ]
  },
  {
   "cell_type": "code",
   "execution_count": 3,
   "metadata": {},
   "outputs": [],
   "source": [
    "def get_next_in_path(pos, dir):\n",
    "    r, c = pos\n",
    "    dr, dc = dir\n",
    "    next_pos = (r + dr, c + dc)\n",
    "    return next_pos"
   ]
  },
  {
   "cell_type": "code",
   "execution_count": null,
   "metadata": {},
   "outputs": [],
   "source": [
    "def get_path(grid, path, dir):\n",
    "    dir_dic = {\n",
    "        0: ( 0,  1),\n",
    "        1: ( 1,  0),\n",
    "        2: ( 0, -1),\n",
    "        3: (-1,  0),\n",
    "    }\n",
    "    while True:\n",
    "        next_pos = get_next_in_path(path[-1], dir_dic[dir])    \n",
    "        if next_pos[0] >= 0 and next_pos[0] < len(grid) and next_pos[1] >= 0 and next_pos[1] < len(grid[0]):\n",
    "            next_val = grid[next_pos[0]][next_pos[1]]\n",
    "            if next_val == \"#\":\n",
    "                dir += 1\n",
    "                if dir == 4:\n",
    "                    dir = 0\n",
    "            else:\n",
    "                path.append(next_pos)\n",
    "        else:\n",
    "            break\n",
    "    return path"
   ]
  },
  {
   "cell_type": "code",
   "execution_count": 75,
   "metadata": {},
   "outputs": [],
   "source": [
    "def get_distinct_positions(file_name):\n",
    "    grid = get_data(file_name)\n",
    "    start_pos, dir = find_guard(grid)\n",
    "    path = get_path(grid, path=[start_pos], dir=dir)\n",
    "    distinct_pos = len(set(path))\n",
    "    return distinct_pos"
   ]
  },
  {
   "cell_type": "code",
   "execution_count": 76,
   "metadata": {},
   "outputs": [
    {
     "data": {
      "text/plain": [
       "41"
      ]
     },
     "execution_count": 76,
     "metadata": {},
     "output_type": "execute_result"
    }
   ],
   "source": [
    "file_name = \"input_sample.txt\"\n",
    "get_distinct_positions(file_name)"
   ]
  },
  {
   "cell_type": "code",
   "execution_count": 77,
   "metadata": {},
   "outputs": [
    {
     "data": {
      "text/plain": [
       "5318"
      ]
     },
     "execution_count": 77,
     "metadata": {},
     "output_type": "execute_result"
    }
   ],
   "source": [
    "file_name = \"input.txt\"\n",
    "get_distinct_positions(file_name)"
   ]
  },
  {
   "cell_type": "markdown",
   "metadata": {},
   "source": [
    "Part 2"
   ]
  },
  {
   "cell_type": "code",
   "execution_count": null,
   "metadata": {},
   "outputs": [],
   "source": [
    "def get_path_p2(grid, path, dir, obs):\n",
    "    dir_dic = {\n",
    "        0: ( 0,  1),\n",
    "        1: ( 1,  0),\n",
    "        2: ( 0, -1),\n",
    "        3: (-1,  0),\n",
    "    }\n",
    "    while True:   \n",
    "        next_pos = get_next_in_path(path[-1], dir_dic[dir])\n",
    "        if path[-1] != obs and next_pos[0] >= 0 and next_pos[0] < len(grid) and next_pos[1] >= 0 and next_pos[1] < len(grid[0]):\n",
    "            next_val = grid[next_pos[0]][next_pos[1]]\n",
    "            if next_val == \"#\" or next_val == \"O\":\n",
    "                dir += 1\n",
    "                if dir == 4:\n",
    "                    dir = 0\n",
    "            else:\n",
    "                path.append(next_pos)\n",
    "        else:\n",
    "            break\n",
    "        if len(path) > 1000000:\n",
    "            return 1\n",
    "    return path"
   ]
  },
  {
   "cell_type": "code",
   "execution_count": null,
   "metadata": {},
   "outputs": [],
   "source": [
    "def count_loops(file_name):\n",
    "    grid = get_data(file_name)\n",
    "    loops = 0\n",
    "    for r, row in enumerate(grid):\n",
    "        for c, col in enumerate(row):\n",
    "            old_val = grid[r][c]\n",
    "            if old_val != \"^\":\n",
    "                grid[r][c] = \"O\"\n",
    "                start_pos, dir = find_guard(grid)\n",
    "                path = get_path_p2(grid, path=[start_pos], dir=dir, obs=(r,c))\n",
    "                if path == 1:\n",
    "                    loops += 1\n",
    "                grid[r][c] = old_val\n",
    "    return loops"
   ]
  },
  {
   "cell_type": "code",
   "execution_count": 99,
   "metadata": {},
   "outputs": [
    {
     "data": {
      "text/plain": [
       "6"
      ]
     },
     "execution_count": 99,
     "metadata": {},
     "output_type": "execute_result"
    }
   ],
   "source": [
    "file_name = \"input_sample.txt\"\n",
    "count_loops(file_name)"
   ]
  },
  {
   "cell_type": "code",
   "execution_count": 100,
   "metadata": {},
   "outputs": [
    {
     "data": {
      "text/plain": [
       "1831"
      ]
     },
     "execution_count": 100,
     "metadata": {},
     "output_type": "execute_result"
    }
   ],
   "source": [
    "file_name = \"input.txt\"\n",
    "count_loops(file_name) "
   ]
  }
 ],
 "metadata": {
  "kernelspec": {
   "display_name": "Python 3",
   "language": "python",
   "name": "python3"
  },
  "language_info": {
   "codemirror_mode": {
    "name": "ipython",
    "version": 3
   },
   "file_extension": ".py",
   "mimetype": "text/x-python",
   "name": "python",
   "nbconvert_exporter": "python",
   "pygments_lexer": "ipython3",
   "version": "3.11.3"
  }
 },
 "nbformat": 4,
 "nbformat_minor": 2
}
