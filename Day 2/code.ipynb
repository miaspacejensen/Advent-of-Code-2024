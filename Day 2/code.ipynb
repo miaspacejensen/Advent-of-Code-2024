{
 "cells": [
  {
   "cell_type": "code",
   "execution_count": 1,
   "metadata": {},
   "outputs": [],
   "source": [
    "def get_data(file_name):\n",
    "    with open(file_name, \"r\") as file:\n",
    "        text = file.read()\n",
    "    lines = text.split(\"\\n\")\n",
    "    lines = [[int(val) for val in line.split(\" \")] for line in lines]\n",
    "    return lines"
   ]
  },
  {
   "cell_type": "code",
   "execution_count": 2,
   "metadata": {},
   "outputs": [],
   "source": [
    "def is_increasing(num_list):\n",
    "    return all(num_list[i] < num_list[i+1] for i in range(len(num_list)-1))\n",
    "\n",
    "def is_decreasing(num_list):\n",
    "    return all(num_list[i] > num_list[i+1] for i in range(len(num_list)-1))\n",
    "\n",
    "def is_valid_diff(num_list):\n",
    "    return all(1 <= abs(num_list[i] - num_list[i+1]) <= 3 for i in range(len(num_list)-1))\n",
    "\n",
    "def is_safe(num_list):\n",
    "    if is_increasing(num_list) or is_decreasing(num_list):\n",
    "        if is_valid_diff(num_list):\n",
    "            return True\n",
    "    return False"
   ]
  },
  {
   "cell_type": "code",
   "execution_count": 3,
   "metadata": {},
   "outputs": [],
   "source": [
    "def count_safe_reports(reports):\n",
    "    safe_reports = 0\n",
    "    for report in reports:\n",
    "        if is_safe(report):\n",
    "            safe_reports += 1\n",
    "    return safe_reports"
   ]
  },
  {
   "cell_type": "code",
   "execution_count": 4,
   "metadata": {},
   "outputs": [
    {
     "data": {
      "text/plain": [
       "2"
      ]
     },
     "execution_count": 4,
     "metadata": {},
     "output_type": "execute_result"
    }
   ],
   "source": [
    "reports = get_data(\"input_sample.txt\")\n",
    "count_safe_reports(reports)"
   ]
  },
  {
   "cell_type": "code",
   "execution_count": 5,
   "metadata": {},
   "outputs": [
    {
     "data": {
      "text/plain": [
       "502"
      ]
     },
     "execution_count": 5,
     "metadata": {},
     "output_type": "execute_result"
    }
   ],
   "source": [
    "reports = get_data(\"input.txt\")\n",
    "count_safe_reports(reports)"
   ]
  },
  {
   "cell_type": "markdown",
   "metadata": {},
   "source": [
    "Part 2"
   ]
  },
  {
   "cell_type": "code",
   "execution_count": 6,
   "metadata": {},
   "outputs": [],
   "source": [
    "def is_safe_remove_num(num_list):\n",
    "    for i in range(1, len(num_list)+1):\n",
    "        lst = num_list[:i-1] + num_list[i:]\n",
    "        if is_safe(lst):\n",
    "            return True\n",
    "    return False"
   ]
  },
  {
   "cell_type": "code",
   "execution_count": 7,
   "metadata": {},
   "outputs": [],
   "source": [
    "def count_safe_reports(reports):\n",
    "    safe_reports = 0\n",
    "    for report in reports:\n",
    "        if is_safe(report):\n",
    "            safe_reports += 1\n",
    "        elif is_safe_remove_num(report):\n",
    "            safe_reports += 1\n",
    "    return safe_reports"
   ]
  },
  {
   "cell_type": "code",
   "execution_count": 8,
   "metadata": {},
   "outputs": [
    {
     "data": {
      "text/plain": [
       "4"
      ]
     },
     "execution_count": 8,
     "metadata": {},
     "output_type": "execute_result"
    }
   ],
   "source": [
    "reports = get_data(\"input_sample.txt\")\n",
    "count_safe_reports(reports)"
   ]
  },
  {
   "cell_type": "code",
   "execution_count": 9,
   "metadata": {},
   "outputs": [
    {
     "data": {
      "text/plain": [
       "544"
      ]
     },
     "execution_count": 9,
     "metadata": {},
     "output_type": "execute_result"
    }
   ],
   "source": [
    "reports = get_data(\"input.txt\")\n",
    "count_safe_reports(reports)"
   ]
  }
 ],
 "metadata": {
  "kernelspec": {
   "display_name": "Python 3",
   "language": "python",
   "name": "python3"
  },
  "language_info": {
   "codemirror_mode": {
    "name": "ipython",
    "version": 3
   },
   "file_extension": ".py",
   "mimetype": "text/x-python",
   "name": "python",
   "nbconvert_exporter": "python",
   "pygments_lexer": "ipython3",
   "version": "3.11.3"
  }
 },
 "nbformat": 4,
 "nbformat_minor": 2
}
