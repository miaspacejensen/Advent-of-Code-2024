{
 "cells": [
  {
   "cell_type": "code",
   "execution_count": 1,
   "metadata": {},
   "outputs": [],
   "source": [
    "def get_data(file_name):\n",
    "    with open(file_name, \"r\") as file:\n",
    "        text = file.read()\n",
    "    stones = text.split(\" \")\n",
    "    return stones"
   ]
  },
  {
   "cell_type": "code",
   "execution_count": 2,
   "metadata": {},
   "outputs": [],
   "source": [
    "def check_rules(num):\n",
    "    if num == '0':\n",
    "        num = [\"1\"]\n",
    "    elif len(num) % 2 == 0:\n",
    "        halfway = int(len(num) / 2)\n",
    "        num = [str(int(num[:halfway])), str(int(num[halfway:]))]\n",
    "    else:\n",
    "        num = [str(int(num) * 2024)]\n",
    "    return num\n",
    "\n",
    "def get_num_stones(file_name, blinks):\n",
    "    stones = get_data(file_name)\n",
    "    for i in range(blinks):\n",
    "        new_stones = []\n",
    "        for stone in stones:\n",
    "            stone = check_rules(stone)\n",
    "            new_stones += stone\n",
    "        stones = new_stones\n",
    "        # print(stones)\n",
    "    return stones"
   ]
  },
  {
   "cell_type": "code",
   "execution_count": 3,
   "metadata": {},
   "outputs": [
    {
     "data": {
      "text/plain": [
       "55312"
      ]
     },
     "execution_count": 3,
     "metadata": {},
     "output_type": "execute_result"
    }
   ],
   "source": [
    "file_name = \"input_sample2.txt\"\n",
    "len(get_num_stones(file_name, blinks = 25))"
   ]
  },
  {
   "cell_type": "code",
   "execution_count": 4,
   "metadata": {},
   "outputs": [
    {
     "data": {
      "text/plain": [
       "185205"
      ]
     },
     "execution_count": 4,
     "metadata": {},
     "output_type": "execute_result"
    }
   ],
   "source": [
    "file_name = \"input.txt\"\n",
    "len(get_num_stones(file_name, blinks = 25))"
   ]
  },
  {
   "cell_type": "markdown",
   "metadata": {},
   "source": [
    "Part 2"
   ]
  },
  {
   "cell_type": "code",
   "execution_count": 5,
   "metadata": {},
   "outputs": [],
   "source": [
    "def check_rules(num):\n",
    "    if num == '0':\n",
    "        num = [\"1\"]\n",
    "    elif len(num) % 2 == 0:\n",
    "        halfway = int(len(num) / 2)\n",
    "        num = [str(int(num[:halfway])), str(int(num[halfway:]))]\n",
    "    else:\n",
    "        num = [str(int(num) * 2024)]\n",
    "    return num\n",
    "\n",
    "def get_stone_dic(stones):\n",
    "    stone_dic = {}\n",
    "    for stone in stones:\n",
    "        if stone not in stone_dic.keys():\n",
    "            stone_dic[stone] = 1\n",
    "        else:\n",
    "            stone_dic[stone] += 1\n",
    "    return stone_dic\n",
    "\n",
    "def get_new_stones_dic(stones_dic):\n",
    "    new_stones_dic = {}\n",
    "    for stone, num in stones_dic.items():\n",
    "        new_stones = check_rules(stone)\n",
    "        for new_stone in new_stones:\n",
    "            if new_stone not in new_stones_dic:\n",
    "                new_stones_dic[new_stone] = num\n",
    "            else:\n",
    "                new_stones_dic[new_stone] += num\n",
    "    return new_stones_dic\n",
    "\n",
    "def get_num_stones(file_name, blinks):\n",
    "    stones = get_data(file_name)\n",
    "    stones_dic = get_stone_dic(stones)\n",
    "    for i in range(blinks):\n",
    "        stones_dic = get_new_stones_dic(stones_dic)\n",
    "    return sum(stones_dic.values())"
   ]
  },
  {
   "cell_type": "code",
   "execution_count": 6,
   "metadata": {},
   "outputs": [
    {
     "data": {
      "text/plain": [
       "221280540398419"
      ]
     },
     "execution_count": 6,
     "metadata": {},
     "output_type": "execute_result"
    }
   ],
   "source": [
    "file_name = \"input.txt\"\n",
    "get_num_stones(file_name, blinks=75)"
   ]
  }
 ],
 "metadata": {
  "kernelspec": {
   "display_name": "Python 3",
   "language": "python",
   "name": "python3"
  },
  "language_info": {
   "codemirror_mode": {
    "name": "ipython",
    "version": 3
   },
   "file_extension": ".py",
   "mimetype": "text/x-python",
   "name": "python",
   "nbconvert_exporter": "python",
   "pygments_lexer": "ipython3",
   "version": "3.11.3"
  }
 },
 "nbformat": 4,
 "nbformat_minor": 2
}
