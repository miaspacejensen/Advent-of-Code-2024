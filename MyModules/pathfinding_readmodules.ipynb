{
 "cells": [
  {
   "cell_type": "code",
   "execution_count": 1,
   "metadata": {},
   "outputs": [],
   "source": [
    "import sys\n",
    "sys.path.append('../MyModules')\n",
    "import pathfinding as pf"
   ]
  },
  {
   "cell_type": "code",
   "execution_count": null,
   "metadata": {},
   "outputs": [
    {
     "name": "stdout",
     "output_type": "stream",
     "text": [
      "\n",
      "    Breadth First Search (BFS)\n",
      "    - Unweighted graphs.\n",
      "    - With or without obstacles.\n",
      "    \n",
      "\n",
      "    A*\n",
      "    - Weighted or uneighted graphs.\n",
      "    - With or without obstacles.\n",
      "    - Heuristic-based search.\n",
      "    - Harnesses BFS but minimises exploration.\n",
      "    \n",
      "\n",
      "    Dijkstra\n",
      "    - Weighted (non-negative) graphs.\n",
      "    - With or without obstacles.\n",
      "    - Similar to A* except without heuristic-based search.\n",
      "    \n"
     ]
    }
   ],
   "source": [
    "print(pf.bfs.__doc__)\n",
    "print(pf.astar.__doc__)\n",
    "print(pf.dijkstra.__doc__) "
   ]
  }
 ],
 "metadata": {
  "kernelspec": {
   "display_name": "Python 3",
   "language": "python",
   "name": "python3"
  },
  "language_info": {
   "codemirror_mode": {
    "name": "ipython",
    "version": 3
   },
   "file_extension": ".py",
   "mimetype": "text/x-python",
   "name": "python",
   "nbconvert_exporter": "python",
   "pygments_lexer": "ipython3",
   "version": "3.11.3"
  }
 },
 "nbformat": 4,
 "nbformat_minor": 2
}
