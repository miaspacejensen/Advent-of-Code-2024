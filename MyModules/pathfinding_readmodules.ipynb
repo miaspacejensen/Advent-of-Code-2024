{
 "cells": [
  {
   "cell_type": "code",
   "execution_count": 8,
   "metadata": {},
   "outputs": [],
   "source": [
    "import sys\n",
    "sys.path.append('../MyModules')\n",
    "import pathfinding as pf"
   ]
  },
  {
   "cell_type": "code",
   "execution_count": 9,
   "metadata": {},
   "outputs": [],
   "source": [
    "grid = [\n",
    "    [0,0,0],\n",
    "    [1,1,0],\n",
    "    [0,0,0]\n",
    "]\n",
    "\n",
    "start_pos = (0,0)\n",
    "target_pos = (2,1)\n",
    "obstacles = [1]\n",
    "\n",
    "directions_incl_diag = [\n",
    "    ( 0, 1),\n",
    "    ( 0,-1),\n",
    "    ( 1, 0),\n",
    "    (-1, 0),\n",
    "    ( 1, 1),\n",
    "    (-1, 1),\n",
    "    ( 1,-1),\n",
    "    (-1,-1)\n",
    "]\n",
    "\n",
    "directions_excl_diag = [\n",
    "    ( 0, 1),\n",
    "    ( 0,-1),\n",
    "    ( 1, 0),\n",
    "    (-1, 0)\n",
    "]"
   ]
  },
  {
   "cell_type": "code",
   "execution_count": 13,
   "metadata": {},
   "outputs": [
    {
     "name": "stdout",
     "output_type": "stream",
     "text": [
      "\n",
      "    Breadth First Search (BFS)\n",
      "    - Unweighted graphs.\n",
      "    - With or without obstacles.\n",
      "    \n",
      "BFS: [(0, 0), (0, 1), (1, 2), (2, 1)]\n"
     ]
    }
   ],
   "source": [
    "print(pf.bfs.__doc__)\n",
    "print(\"BFS:\", pf.bfs(grid, start_pos, target_pos, directions_incl_diag, obstacles))"
   ]
  },
  {
   "cell_type": "code",
   "execution_count": 14,
   "metadata": {},
   "outputs": [
    {
     "name": "stdout",
     "output_type": "stream",
     "text": [
      "\n",
      "    A*\n",
      "    - Weighted or uneighted graphs.\n",
      "    - With or without obstacles.\n",
      "    - Heuristic-based search.\n",
      "    - Harnesses BFS but minimises exploration.\n",
      "    \n",
      "A*: [(0, 0), (0, 1), (1, 2), (2, 1)]\n"
     ]
    }
   ],
   "source": [
    "print(pf.astar.__doc__)\n",
    "print(\"A*:\", pf.astar(grid, start_pos, target_pos, directions_incl_diag, obstacles))"
   ]
  },
  {
   "cell_type": "code",
   "execution_count": 15,
   "metadata": {},
   "outputs": [
    {
     "name": "stdout",
     "output_type": "stream",
     "text": [
      "\n",
      "    Dijkstra\n",
      "    - Weighted (non-negative) graphs.\n",
      "    - With or without obstacles.\n",
      "    - Similar to A* except without heuristic-based search.\n",
      "    \n",
      "Dijkstra: [(0, 0), (0, 1), (1, 2), (2, 1)]\n"
     ]
    }
   ],
   "source": [
    "print(pf.dijkstra.__doc__) \n",
    "print(\"Dijkstra:\", pf.astar(grid, start_pos, target_pos, directions_incl_diag, obstacles))"
   ]
  },
  {
   "cell_type": "code",
   "execution_count": null,
   "metadata": {},
   "outputs": [],
   "source": []
  }
 ],
 "metadata": {
  "kernelspec": {
   "display_name": "Python 3",
   "language": "python",
   "name": "python3"
  },
  "language_info": {
   "codemirror_mode": {
    "name": "ipython",
    "version": 3
   },
   "file_extension": ".py",
   "mimetype": "text/x-python",
   "name": "python",
   "nbconvert_exporter": "python",
   "pygments_lexer": "ipython3",
   "version": "3.11.3"
  }
 },
 "nbformat": 4,
 "nbformat_minor": 2
}
