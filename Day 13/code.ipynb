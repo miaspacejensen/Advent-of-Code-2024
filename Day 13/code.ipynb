{
 "cells": [
  {
   "cell_type": "code",
   "execution_count": 153,
   "metadata": {},
   "outputs": [],
   "source": [
    "import numpy as np"
   ]
  },
  {
   "cell_type": "code",
   "execution_count": 154,
   "metadata": {},
   "outputs": [],
   "source": [
    "def get_data(file_name):\n",
    "    with open(file_name, \"r\") as file:\n",
    "        text = file.read() \n",
    "    machines = text.split(\"\\n\\n\")\n",
    "    machines = [[val.split(\": \")[1].split(\", \") for val in m.split(\"\\n\")] for m in machines]\n",
    "    return machines "
   ]
  },
  {
   "cell_type": "code",
   "execution_count": 155,
   "metadata": {},
   "outputs": [],
   "source": [
    "def tokens_to_win(file_name):\n",
    "    machines = get_data(file_name)\n",
    "    tokens_dic = {}\n",
    "    for i, m in enumerate(machines):\n",
    "        button_A = [int(val.split(\"+\")[1]) for val in m[0]]\n",
    "        button_B = [int(val.split(\"+\")[1]) for val in m[1]]\n",
    "\n",
    "        button_matrix = [[button_A[0], button_B[0]], [button_A[1], button_B[1]]]\n",
    "        prize_vector = [int(val.split(\"=\")[1]) for val in m[2]]\n",
    "\n",
    "        result = np.linalg.solve(button_matrix, prize_vector)\n",
    "        A, B = np.round(result).astype(int)\n",
    "\n",
    "        tokens = A*3 + B\n",
    "\n",
    "        X = eval(f\"{A}*{button_A[0]}+{B}*{button_B[0]}\")\n",
    "        Y = eval(f\"{A}*{button_A[1]}+{B}*{button_B[1]}\")\n",
    "        \n",
    "        if X == prize_vector[0] and Y == prize_vector[1]:\n",
    "            if A <= 100 and B <= 100:\n",
    "                tokens_dic[i] = tokens\n",
    "\n",
    "    return sum(tokens_dic.values())"
   ]
  },
  {
   "cell_type": "code",
   "execution_count": 156,
   "metadata": {},
   "outputs": [
    {
     "data": {
      "text/plain": [
       "480"
      ]
     },
     "execution_count": 156,
     "metadata": {},
     "output_type": "execute_result"
    }
   ],
   "source": [
    "file_name = \"input_sample.txt\"\n",
    "tokens_to_win(file_name)"
   ]
  },
  {
   "cell_type": "code",
   "execution_count": null,
   "metadata": {},
   "outputs": [
    {
     "data": {
      "text/plain": [
       "29187"
      ]
     },
     "execution_count": 157,
     "metadata": {},
     "output_type": "execute_result"
    }
   ],
   "source": [
    "file_name = \"input.txt\" \n",
    "tokens_to_win(file_name) "
   ]
  },
  {
   "cell_type": "markdown",
   "metadata": {},
   "source": [
    "Part 2"
   ]
  },
  {
   "cell_type": "code",
   "execution_count": 180,
   "metadata": {},
   "outputs": [],
   "source": [
    "def tokens_to_win_p2(file_name):\n",
    "    machines = get_data(file_name)\n",
    "    tokens_dic = {}\n",
    "    for i, m in enumerate(machines):\n",
    "        button_A = [int(val.split(\"+\")[1]) for val in m[0]]\n",
    "        button_B = [int(val.split(\"+\")[1]) for val in m[1]]\n",
    "\n",
    "        button_matrix = [[button_A[0], button_B[0]], [button_A[1], button_B[1]]]\n",
    "        prize_vector = [int(val.split(\"=\")[1])+10000000000000 for val in m[2]]\n",
    "\n",
    "        result = np.linalg.solve(button_matrix, prize_vector)\n",
    "        A, B = [int(f\"{val:.0f}\") for val in result]\n",
    "\n",
    "        tokens = A*3 + B\n",
    "\n",
    "        X = eval(f\"{A}*{button_A[0]}+{B}*{button_B[0]}\")\n",
    "        Y = eval(f\"{A}*{button_A[1]}+{B}*{button_B[1]}\")\n",
    "        \n",
    "        if X == int(prize_vector[0]) and Y == int(prize_vector[1]):\n",
    "            tokens_dic[i] = tokens\n",
    "\n",
    "    return sum(tokens_dic.values())"
   ]
  },
  {
   "cell_type": "code",
   "execution_count": 181,
   "metadata": {},
   "outputs": [
    {
     "data": {
      "text/plain": [
       "875318608908"
      ]
     },
     "execution_count": 181,
     "metadata": {},
     "output_type": "execute_result"
    }
   ],
   "source": [
    "file_name = \"input_sample.txt\"\n",
    "tokens_to_win_p2(file_name)"
   ]
  },
  {
   "cell_type": "code",
   "execution_count": null,
   "metadata": {},
   "outputs": [
    {
     "data": {
      "text/plain": [
       "99968222587852"
      ]
     },
     "execution_count": 182,
     "metadata": {},
     "output_type": "execute_result"
    }
   ],
   "source": [
    "file_name = \"input.txt\" \n",
    "tokens_to_win_p2(file_name) "
   ]
  }
 ],
 "metadata": {
  "kernelspec": {
   "display_name": "Python 3",
   "language": "python",
   "name": "python3"
  },
  "language_info": {
   "codemirror_mode": {
    "name": "ipython",
    "version": 3
   },
   "file_extension": ".py",
   "mimetype": "text/x-python",
   "name": "python",
   "nbconvert_exporter": "python",
   "pygments_lexer": "ipython3",
   "version": "3.11.3"
  }
 },
 "nbformat": 4,
 "nbformat_minor": 2
}
