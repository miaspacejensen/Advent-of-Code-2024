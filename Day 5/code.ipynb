{
 "cells": [
  {
   "cell_type": "code",
   "execution_count": null,
   "metadata": {},
   "outputs": [],
   "source": [
    "import math"
   ]
  },
  {
   "cell_type": "code",
   "execution_count": 48,
   "metadata": {},
   "outputs": [],
   "source": [
    "def get_data(file_name):\n",
    "    with open(file_name, \"r\") as file:\n",
    "        text = file.read()\n",
    "    sect1, sect2 = text.split(\"\\n\\n\")\n",
    "    sect1 = [[int(val) for val in line.split(\"|\")] for line in sect1.split(\"\\n\")]\n",
    "    sect2 = [[int(val) for val in line.split(\",\")] for line in sect2.split(\"\\n\")]\n",
    "    return sect1, sect2"
   ]
  },
  {
   "cell_type": "code",
   "execution_count": 109,
   "metadata": {},
   "outputs": [],
   "source": [
    "def get_result(updates, rules):\n",
    "\n",
    "    middle_pages = []\n",
    "    correct_updates = []\n",
    "    incorrect_updates = []\n",
    "\n",
    "    for update in updates:\n",
    "\n",
    "        correct = True\n",
    "        for page in update:\n",
    "            x_rules = [rule for rule in rules if rule[0]==page]\n",
    "            for rule in x_rules:\n",
    "                y = rule[1]\n",
    "                if y in update:\n",
    "                    if update.index(page) >= update.index(y):\n",
    "                        correct = False\n",
    "\n",
    "        if correct == True:\n",
    "            ind = math.floor(len(update)/2)\n",
    "            middle_pages.append(update[ind])\n",
    "            correct_updates.append(update)\n",
    "        else: \n",
    "            incorrect_updates.append(update)\n",
    "\n",
    "    return middle_pages, correct_updates, incorrect_updates"
   ]
  },
  {
   "cell_type": "code",
   "execution_count": 110,
   "metadata": {},
   "outputs": [
    {
     "data": {
      "text/plain": [
       "143"
      ]
     },
     "execution_count": 110,
     "metadata": {},
     "output_type": "execute_result"
    }
   ],
   "source": [
    "rules, updates = get_data(\"input_sample.txt\")\n",
    "sum(get_result(updates, rules)[0])"
   ]
  },
  {
   "cell_type": "code",
   "execution_count": 111,
   "metadata": {},
   "outputs": [
    {
     "data": {
      "text/plain": [
       "4924"
      ]
     },
     "execution_count": 111,
     "metadata": {},
     "output_type": "execute_result"
    }
   ],
   "source": [
    "rules, updates = get_data(\"input.txt\")\n",
    "sum(get_result(updates, rules)[0])"
   ]
  },
  {
   "cell_type": "markdown",
   "metadata": {},
   "source": [
    "Part 2"
   ]
  },
  {
   "cell_type": "code",
   "execution_count": 166,
   "metadata": {},
   "outputs": [],
   "source": [
    "def get_result_p2(incorrect_updates, rules):\n",
    "    middle_pages = []\n",
    "    for update in incorrect_updates:\n",
    "        new_update = update.copy()\n",
    "        for page in new_update:\n",
    "            x_rules = [rule for rule in rules if rule[0]==page]\n",
    "            for rule in x_rules:\n",
    "                y = rule[1]\n",
    "                if y in new_update:\n",
    "                    if new_update.index(page) >= new_update.index(y):\n",
    "                        new_update.pop(new_update.index(page))\n",
    "                        new_update.insert(new_update.index(y), page)\n",
    "        ind = math.floor(len(new_update)/2)\n",
    "        middle_pages.append(new_update[ind])\n",
    "    return middle_pages"
   ]
  },
  {
   "cell_type": "code",
   "execution_count": 168,
   "metadata": {},
   "outputs": [
    {
     "data": {
      "text/plain": [
       "123"
      ]
     },
     "execution_count": 168,
     "metadata": {},
     "output_type": "execute_result"
    }
   ],
   "source": [
    "rules, updates = get_data(\"input_sample.txt\")\n",
    "incorrect_updates = get_result(updates, rules)[2]\n",
    "sum(get_result_p2(incorrect_updates, rules))"
   ]
  },
  {
   "cell_type": "code",
   "execution_count": 169,
   "metadata": {},
   "outputs": [
    {
     "data": {
      "text/plain": [
       "6085"
      ]
     },
     "execution_count": 169,
     "metadata": {},
     "output_type": "execute_result"
    }
   ],
   "source": [
    "rules, updates = get_data(\"input.txt\")\n",
    "incorrect_updates = get_result(updates, rules)[2]\n",
    "sum(get_result_p2(incorrect_updates, rules))"
   ]
  }
 ],
 "metadata": {
  "kernelspec": {
   "display_name": "Python 3",
   "language": "python",
   "name": "python3"
  },
  "language_info": {
   "codemirror_mode": {
    "name": "ipython",
    "version": 3
   },
   "file_extension": ".py",
   "mimetype": "text/x-python",
   "name": "python",
   "nbconvert_exporter": "python",
   "pygments_lexer": "ipython3",
   "version": "3.11.3"
  }
 },
 "nbformat": 4,
 "nbformat_minor": 2
}
