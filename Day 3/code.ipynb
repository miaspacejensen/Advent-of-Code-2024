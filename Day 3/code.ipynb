{
 "cells": [
  {
   "cell_type": "code",
   "execution_count": 1,
   "metadata": {},
   "outputs": [],
   "source": [
    "import re"
   ]
  },
  {
   "cell_type": "code",
   "execution_count": null,
   "metadata": {},
   "outputs": [],
   "source": [
    "def get_data(file_name):\n",
    "    with open(file_name, \"r\") as file:\n",
    "        text = file.read()\n",
    "    return text "
   ]
  },
  {
   "cell_type": "code",
   "execution_count": null,
   "metadata": {},
   "outputs": [],
   "source": [
    "def muls_text_to_int(muls_text):\n",
    "    muls = [mul.split(\"mul(\")[1].split(\")\")[0].split(\",\") for mul in muls_text]\n",
    "    muls = [[int(val) for val in mul] for mul in muls]\n",
    "    return muls\n",
    "\n",
    "def get_sequence_total(sequence):\n",
    "    muls = muls_text_to_int(re.findall(r\"mul\\(\\d+,\\d+\\)\", sequence))\n",
    "    total = 0\n",
    "    for val1, val2 in muls:\n",
    "        total += val1 * val2\n",
    "    return muls, total\n",
    "\n",
    "def get_grand_total(file_name):\n",
    "    text = get_data(file_name)\n",
    "    seqs = text.split(\"\\n\")\n",
    "    grand_total = 0\n",
    "    for seq in seqs:\n",
    "        _, total = get_sequence_total(seq)\n",
    "        grand_total += total\n",
    "    return grand_total"
   ]
  },
  {
   "cell_type": "code",
   "execution_count": 4,
   "metadata": {},
   "outputs": [
    {
     "data": {
      "text/plain": [
       "161"
      ]
     },
     "execution_count": 4,
     "metadata": {},
     "output_type": "execute_result"
    }
   ],
   "source": [
    "file_name = \"input_sample.txt\"\n",
    "get_grand_total(file_name)"
   ]
  },
  {
   "cell_type": "code",
   "execution_count": 5,
   "metadata": {},
   "outputs": [
    {
     "data": {
      "text/plain": [
       "178794710"
      ]
     },
     "execution_count": 5,
     "metadata": {},
     "output_type": "execute_result"
    }
   ],
   "source": [
    "file_name = \"input.txt\"\n",
    "get_grand_total(file_name)"
   ]
  },
  {
   "cell_type": "markdown",
   "metadata": {},
   "source": [
    "Part 2"
   ]
  },
  {
   "cell_type": "code",
   "execution_count": null,
   "metadata": {},
   "outputs": [],
   "source": [
    "def get_enabled_muls(seq):\n",
    "    mul_enabled = True\n",
    "    seq_split = [\"do()\"] + re.split(r\"(do\\(\\)|don't\\(\\))\", seq)\n",
    "    muls = []\n",
    "    for partition in seq_split:\n",
    "        if \"do()\" in partition:\n",
    "            mul_enabled = True\n",
    "        elif \"don't()\" in partition:\n",
    "            mul_enabled = False\n",
    "        elif mul_enabled:\n",
    "            muls_text = re.findall(r\"mul\\(\\d{1,3},\\d{1,3}\\)\", partition)\n",
    "            muls += muls_text\n",
    "    return muls_text_to_int(muls)\n",
    "\n",
    "def sum_enabled_muls(file_name):\n",
    "    text = get_data(file_name)\n",
    "    valid_muls = get_enabled_muls(text)\n",
    "    return sum(val1 * val2 for val1, val2 in valid_muls)"
   ]
  },
  {
   "cell_type": "code",
   "execution_count": 7,
   "metadata": {},
   "outputs": [
    {
     "data": {
      "text/plain": [
       "48"
      ]
     },
     "execution_count": 7,
     "metadata": {},
     "output_type": "execute_result"
    }
   ],
   "source": [
    "file_name = \"input_sample2.txt\"\n",
    "sum_enabled_muls(file_name)"
   ]
  },
  {
   "cell_type": "code",
   "execution_count": 8,
   "metadata": {},
   "outputs": [
    {
     "data": {
      "text/plain": [
       "76729637"
      ]
     },
     "execution_count": 8,
     "metadata": {},
     "output_type": "execute_result"
    }
   ],
   "source": [
    "file_name = \"input.txt\"\n",
    "sum_enabled_muls(file_name)"
   ]
  },
  {
   "cell_type": "code",
   "execution_count": null,
   "metadata": {},
   "outputs": [],
   "source": []
  }
 ],
 "metadata": {
  "kernelspec": {
   "display_name": "Python 3",
   "language": "python",
   "name": "python3"
  },
  "language_info": {
   "codemirror_mode": {
    "name": "ipython",
    "version": 3
   },
   "file_extension": ".py",
   "mimetype": "text/x-python",
   "name": "python",
   "nbconvert_exporter": "python",
   "pygments_lexer": "ipython3",
   "version": "3.11.3"
  }
 },
 "nbformat": 4,
 "nbformat_minor": 2
}
