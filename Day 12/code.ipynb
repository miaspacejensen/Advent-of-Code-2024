{
 "cells": [
  {
   "cell_type": "code",
   "execution_count": 1,
   "metadata": {},
   "outputs": [],
   "source": [
    "def get_data(file_name):\n",
    "    with open(file_name, \"r\") as file:\n",
    "        text = file.read()\n",
    "    lines = text.split(\"\\n\")\n",
    "    grid = [list(line) for line in lines]\n",
    "    return grid "
   ]
  },
  {
   "cell_type": "code",
   "execution_count": 2,
   "metadata": {},
   "outputs": [],
   "source": [
    "def add_grid_buffer(grid):\n",
    "    buffer_row = [list(\".\" * (len(grid) + 2))]\n",
    "    return buffer_row + [[\".\"]+row+[\".\"] for row in grid] + buffer_row"
   ]
  },
  {
   "cell_type": "code",
   "execution_count": 3,
   "metadata": {},
   "outputs": [],
   "source": [
    "def find_regions(grid):\n",
    "\n",
    "    n_rows = len(grid)\n",
    "    n_cols = len(grid[0])\n",
    "    \n",
    "    visited = [[False] * n_cols for _ in range(n_rows)]\n",
    "\n",
    "    regions = []\n",
    "    def dfs(pos, val, region):\n",
    "        r, c = pos \n",
    "        if r<0 or r>=n_rows or c<0 or c>=n_cols or visited[r][c] or grid[r][c]!=val:\n",
    "            return \n",
    "        visited[r][c] = True\n",
    "        region.append(pos)\n",
    "        for dr, dc in [(1,0),(0,1),(-1,0),(0,-1)]:\n",
    "            nr = r + dr \n",
    "            nc = c + dc\n",
    "            dfs((nr,nc), val, region)\n",
    "\n",
    "    for r in range(n_rows):\n",
    "        for c in range(n_cols):\n",
    "            if not visited[r][c]:\n",
    "                region = []\n",
    "                dfs((r,c), grid[r][c], region)\n",
    "                regions.append((grid[r][c], region))\n",
    "    \n",
    "    return regions"
   ]
  },
  {
   "cell_type": "code",
   "execution_count": 4,
   "metadata": {},
   "outputs": [],
   "source": [
    "def get_surrounding_fences(grid, pos, val):\n",
    "    r, c = pos\n",
    "    surr_pos = []\n",
    "    for dr, dc in [(1,0),(0,1),(-1,0),(0,-1)]:\n",
    "        nr = r + dr \n",
    "        nc = c + dc\n",
    "        if 0 <= nr < len(grid) and 0 <= nc < len(grid[0]):\n",
    "            if grid[nr][nc] != val:\n",
    "                surr_pos.append((nr,nc))\n",
    "    return surr_pos"
   ]
  },
  {
   "cell_type": "code",
   "execution_count": 5,
   "metadata": {},
   "outputs": [],
   "source": [
    "def get_fences(grid, regions):\n",
    "    all_fences = []\n",
    "    for region, positions in regions:\n",
    "        region_fences = []\n",
    "        for pos in positions:\n",
    "            r, c = pos\n",
    "            fences = get_surrounding_fences(grid, pos, region)\n",
    "            region_fences += fences\n",
    "        all_fences.append([region, region_fences])\n",
    "    return all_fences"
   ]
  },
  {
   "cell_type": "code",
   "execution_count": 6,
   "metadata": {},
   "outputs": [],
   "source": [
    "def total_price(file_name):\n",
    "    grid = get_data(file_name)\n",
    "    grid = add_grid_buffer(grid)\n",
    "    regions = [region for region in find_regions(grid) if region[0]!=\".\"]\n",
    "    all_fences = get_fences(grid, regions)\n",
    "    total_price = 0\n",
    "    i = 0\n",
    "    for _, fences in all_fences:\n",
    "        area = len(regions[i][1])\n",
    "        perim = len(fences)\n",
    "        total_price += perim*area\n",
    "        i += 1\n",
    "    return total_price"
   ]
  },
  {
   "cell_type": "code",
   "execution_count": 7,
   "metadata": {},
   "outputs": [
    {
     "data": {
      "text/plain": [
       "140"
      ]
     },
     "execution_count": 7,
     "metadata": {},
     "output_type": "execute_result"
    }
   ],
   "source": [
    "file_name = \"input_sample.txt\"\n",
    "total_price(file_name)"
   ]
  },
  {
   "cell_type": "code",
   "execution_count": 8,
   "metadata": {},
   "outputs": [
    {
     "data": {
      "text/plain": [
       "1930"
      ]
     },
     "execution_count": 8,
     "metadata": {},
     "output_type": "execute_result"
    }
   ],
   "source": [
    "file_name = \"input_sample2.txt\"\n",
    "total_price(file_name)"
   ]
  },
  {
   "cell_type": "code",
   "execution_count": 9,
   "metadata": {},
   "outputs": [
    {
     "data": {
      "text/plain": [
       "1424006"
      ]
     },
     "execution_count": 9,
     "metadata": {},
     "output_type": "execute_result"
    }
   ],
   "source": [
    "file_name = \"input.txt\"\n",
    "total_price(file_name)"
   ]
  },
  {
   "cell_type": "markdown",
   "metadata": {},
   "source": [
    "Part 2"
   ]
  },
  {
   "cell_type": "code",
   "execution_count": 84,
   "metadata": {},
   "outputs": [],
   "source": [
    "def count_sides(region_positions):\n",
    "    corner_positions = set()\n",
    "    directions = [(0.5, -0.5), (0.5, 0.5), (-0.5, 0.5), (-0.5, -0.5)]\n",
    "    for r, c in region_positions:\n",
    "        for dr, dc in directions:\n",
    "            nr = r + dr \n",
    "            nc = c + dc\n",
    "            corner_pos = (nr, nc)\n",
    "            corner_positions.add(corner_pos)\n",
    "    sides = 0\n",
    "    for cr, cc in corner_positions:\n",
    "        adjacent_positions = [(cr + dr, cc + dc) in region_positions for dr, dc in directions]\n",
    "        num_adjacent = sum(adjacent_positions)\n",
    "        if num_adjacent == 1 or num_adjacent == 3:\n",
    "            sides += 1\n",
    "        elif adjacent_positions == [True, False, True, False] or adjacent_positions == [False, True, False, True]:\n",
    "            sides += 2\n",
    "    return sides\n",
    "\n",
    "def get_total_price(file_name):\n",
    "    grid = get_data(file_name)\n",
    "    grid = add_grid_buffer(grid)\n",
    "    regions = [region for region in find_regions(grid) if region[0]!=\".\"]\n",
    "    total_price = 0\n",
    "    i = 0\n",
    "    for _, region_positions in regions:\n",
    "        area = len(regions[i][1])\n",
    "        sides = count_sides(region_positions)\n",
    "        total_price += sides*area\n",
    "        i += 1\n",
    "    return total_price"
   ]
  },
  {
   "cell_type": "code",
   "execution_count": 87,
   "metadata": {},
   "outputs": [
    {
     "data": {
      "text/plain": [
       "80"
      ]
     },
     "execution_count": 87,
     "metadata": {},
     "output_type": "execute_result"
    }
   ],
   "source": [
    "file_name = \"input_sample.txt\"\n",
    "get_total_price(file_name) "
   ]
  },
  {
   "cell_type": "code",
   "execution_count": 92,
   "metadata": {},
   "outputs": [
    {
     "data": {
      "text/plain": [
       "1206"
      ]
     },
     "execution_count": 92,
     "metadata": {},
     "output_type": "execute_result"
    }
   ],
   "source": [
    "file_name = \"input_sample2.txt\"\n",
    "get_total_price(file_name)"
   ]
  },
  {
   "cell_type": "code",
   "execution_count": 88,
   "metadata": {},
   "outputs": [
    {
     "data": {
      "text/plain": [
       "436"
      ]
     },
     "execution_count": 88,
     "metadata": {},
     "output_type": "execute_result"
    }
   ],
   "source": [
    "file_name = \"input_sample3.txt\"\n",
    "get_total_price(file_name)"
   ]
  },
  {
   "cell_type": "code",
   "execution_count": 89,
   "metadata": {},
   "outputs": [
    {
     "data": {
      "text/plain": [
       "236"
      ]
     },
     "execution_count": 89,
     "metadata": {},
     "output_type": "execute_result"
    }
   ],
   "source": [
    "file_name = \"input_sample4.txt\"\n",
    "get_total_price(file_name)"
   ]
  },
  {
   "cell_type": "code",
   "execution_count": 90,
   "metadata": {},
   "outputs": [
    {
     "data": {
      "text/plain": [
       "368"
      ]
     },
     "execution_count": 90,
     "metadata": {},
     "output_type": "execute_result"
    }
   ],
   "source": [
    "file_name = \"input_sample5.txt\"\n",
    "get_total_price(file_name)"
   ]
  },
  {
   "cell_type": "code",
   "execution_count": 91,
   "metadata": {},
   "outputs": [
    {
     "data": {
      "text/plain": [
       "858684"
      ]
     },
     "execution_count": 91,
     "metadata": {},
     "output_type": "execute_result"
    }
   ],
   "source": [
    "file_name = \"input.txt\"\n",
    "get_total_price(file_name)"
   ]
  }
 ],
 "metadata": {
  "kernelspec": {
   "display_name": "Python 3",
   "language": "python",
   "name": "python3"
  },
  "language_info": {
   "codemirror_mode": {
    "name": "ipython",
    "version": 3
   },
   "file_extension": ".py",
   "mimetype": "text/x-python",
   "name": "python",
   "nbconvert_exporter": "python",
   "pygments_lexer": "ipython3",
   "version": "3.11.3"
  }
 },
 "nbformat": 4,
 "nbformat_minor": 2
}
