{
 "cells": [
  {
   "cell_type": "code",
   "execution_count": 189,
   "metadata": {},
   "outputs": [],
   "source": [
    "import itertools"
   ]
  },
  {
   "cell_type": "code",
   "execution_count": 190,
   "metadata": {},
   "outputs": [],
   "source": [
    "def get_data(file_name):\n",
    "    with open(file_name, \"r\") as file:\n",
    "        text = file.read()\n",
    "    lines = text.split(\"\\n\")\n",
    "    equations = [[item.split(\" \") for item in line.split(\": \")] for line in lines]\n",
    "    return equations"
   ]
  },
  {
   "cell_type": "code",
   "execution_count": 191,
   "metadata": {},
   "outputs": [],
   "source": [
    "def get_operator_combinations(operators, num_slots):\n",
    "    if num_slots == 1:\n",
    "        combinations = operators\n",
    "    else:\n",
    "        combinations = list(itertools.product(operators, repeat=num_slots))\n",
    "    return combinations"
   ]
  },
  {
   "cell_type": "code",
   "execution_count": 192,
   "metadata": {},
   "outputs": [],
   "source": [
    "def left_to_right_evaluation(equation):\n",
    "    operations = equation.split()\n",
    "    result = int(operations[0])\n",
    "    for i in range(1, len(operations), 2):\n",
    "        operator = operations[i]\n",
    "        operand = int(operations[i + 1])\n",
    "        if operator == \"+\":\n",
    "            result += operand\n",
    "        elif operator == \"*\":\n",
    "            result *= operand\n",
    "    return result\n"
   ]
  },
  {
   "cell_type": "code",
   "execution_count": null,
   "metadata": {},
   "outputs": [],
   "source": [
    "def get_sum_total(equations, operators):\n",
    "\n",
    "    solvable = []\n",
    "    \n",
    "    for line in equations:\n",
    "\n",
    "        expected_result = line[0][0]\n",
    "        equation_vals = line[1]\n",
    "        operator_combs = get_operator_combinations(operators, len(equation_vals)-1)\n",
    "\n",
    "        outputs = []\n",
    "        for ops in operator_combs:\n",
    "            result = equation_vals[0]\n",
    "            for i, val in enumerate(equation_vals[1:]):\n",
    "                new_result = result + ops[i] + val\n",
    "                result = str(eval(new_result))\n",
    "            outputs.append([expected_result, result])\n",
    "\n",
    "        if len([output for output in outputs if output[0]==output[1]]) > 0:\n",
    "            solvable.append(int(expected_result))\n",
    "\n",
    "    return sum(solvable)"
   ]
  },
  {
   "cell_type": "code",
   "execution_count": 194,
   "metadata": {},
   "outputs": [
    {
     "data": {
      "text/plain": [
       "3749"
      ]
     },
     "execution_count": 194,
     "metadata": {},
     "output_type": "execute_result"
    }
   ],
   "source": [
    "equations = get_data(\"input_sample.txt\")\n",
    "get_sum_total(equations, operators=[\"+\", \"*\"])"
   ]
  },
  {
   "cell_type": "code",
   "execution_count": 195,
   "metadata": {},
   "outputs": [
    {
     "data": {
      "text/plain": [
       "4122618559853"
      ]
     },
     "execution_count": 195,
     "metadata": {},
     "output_type": "execute_result"
    }
   ],
   "source": [
    "equations = get_data(\"input.txt\")\n",
    "get_sum_total(equations, operators=[\"+\", \"*\"])"
   ]
  },
  {
   "cell_type": "markdown",
   "metadata": {},
   "source": [
    "Part 2"
   ]
  },
  {
   "cell_type": "code",
   "execution_count": null,
   "metadata": {},
   "outputs": [],
   "source": [
    "def get_sum_total_p2(equations, operators):\n",
    "\n",
    "    solvable = []\n",
    "    \n",
    "    for line in equations:\n",
    "\n",
    "        expected_result = line[0][0]\n",
    "        equation_vals = line[1]\n",
    "        operator_combs = get_operator_combinations(operators, len(equation_vals)-1)\n",
    "            \n",
    "        outputs = []\n",
    "        for ops in operator_combs:\n",
    "            result = equation_vals[0]\n",
    "            for i, val in enumerate(equation_vals[1:]):\n",
    "                if ops[i] == \"|\":\n",
    "                    new_result = str(result) + str(val)\n",
    "                else:\n",
    "                    new_result = result + ops[i] + val\n",
    "                result = str(eval(new_result))\n",
    "            outputs.append([expected_result, result])\n",
    "\n",
    "        if len([output for output in outputs if output[0]==output[1]]) > 0:\n",
    "            solvable.append(int(expected_result))\n",
    "\n",
    "    return sum(solvable)"
   ]
  },
  {
   "cell_type": "code",
   "execution_count": 229,
   "metadata": {},
   "outputs": [
    {
     "data": {
      "text/plain": [
       "11387"
      ]
     },
     "execution_count": 229,
     "metadata": {},
     "output_type": "execute_result"
    }
   ],
   "source": [
    "equations = get_data(\"input_sample.txt\")\n",
    "get_sum_total_p2(equations, operators=[\"+\", \"*\", \"|\"])"
   ]
  },
  {
   "cell_type": "code",
   "execution_count": 230,
   "metadata": {},
   "outputs": [
    {
     "data": {
      "text/plain": [
       "227615740238334"
      ]
     },
     "execution_count": 230,
     "metadata": {},
     "output_type": "execute_result"
    }
   ],
   "source": [
    "equations = get_data(\"input.txt\")\n",
    "get_sum_total_p2(equations, operators=[\"+\", \"*\", \"|\"]) "
   ]
  }
 ],
 "metadata": {
  "kernelspec": {
   "display_name": "Python 3",
   "language": "python",
   "name": "python3"
  },
  "language_info": {
   "codemirror_mode": {
    "name": "ipython",
    "version": 3
   },
   "file_extension": ".py",
   "mimetype": "text/x-python",
   "name": "python",
   "nbconvert_exporter": "python",
   "pygments_lexer": "ipython3",
   "version": "3.11.3"
  }
 },
 "nbformat": 4,
 "nbformat_minor": 2
}
