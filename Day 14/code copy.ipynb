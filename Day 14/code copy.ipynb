{
 "cells": [
  {
   "cell_type": "code",
   "execution_count": 1,
   "metadata": {},
   "outputs": [],
   "source": [
    "import math"
   ]
  },
  {
   "cell_type": "code",
   "execution_count": 2,
   "metadata": {},
   "outputs": [],
   "source": [
    "def get_data(file_name):\n",
    "    with open(file_name, \"r\") as file:\n",
    "        text = file.read() \n",
    "    lines = [[pair[2:].split(\",\") for pair in line.split(\" \")] for line in text.split(\"\\n\")]\n",
    "    robots = []\n",
    "    for line in lines: \n",
    "        robots.append([[int(val) for val in pair] for pair in line])\n",
    "    return robots "
   ]
  },
  {
   "cell_type": "code",
   "execution_count": 3,
   "metadata": {},
   "outputs": [],
   "source": [
    "def new_pos(position, velocity, n_rows, n_cols):\n",
    "    (c, r) = position\n",
    "    (vc, vr) = velocity \n",
    "    nr = r + vr \n",
    "    nc = c + vc \n",
    "    if nc < 0:\n",
    "        nc = n_cols + nc\n",
    "    elif nc >= n_cols:\n",
    "        nc = nc - n_cols \n",
    "    if nr < 0:\n",
    "        nr = n_rows + nr\n",
    "    elif nr >= n_rows:\n",
    "        nr = nr - n_rows \n",
    "    return (nc, nr)"
   ]
  },
  {
   "cell_type": "code",
   "execution_count": 4,
   "metadata": {},
   "outputs": [],
   "source": [
    "def get_final_positions(robots, n_rows, n_cols, seconds):\n",
    "    grid = [[0 for _ in range(n_cols)] for _ in range(n_rows)]\n",
    "    final_positions = []\n",
    "    for pos, vel in robots:\n",
    "        for i in range(seconds):\\\n",
    "            pos = new_pos(pos, vel, n_rows, n_cols)\n",
    "        final_positions.append(pos)\n",
    "        grid[pos[1]][pos[0]] += 1\n",
    "    return grid, final_positions"
   ]
  },
  {
   "cell_type": "code",
   "execution_count": 5,
   "metadata": {},
   "outputs": [],
   "source": [
    "def get_quadrants(final_positions, n_rows, n_cols):\n",
    "    hori_asym = math.floor(n_rows / 2)\n",
    "    vert_asym = math.floor(n_cols / 2)\n",
    "    quad_dic = {\"TL\":[], \"TR\":[], \"BL\":[], \"BR\":[]}\n",
    "    for c, r in final_positions:\n",
    "        quad = \"\"\n",
    "        if r > hori_asym:\n",
    "            quad += \"B\"\n",
    "        elif r < hori_asym:\n",
    "            quad += \"T\"\n",
    "        else:\n",
    "            continue\n",
    "        if c > vert_asym:\n",
    "            quad += \"R\"\n",
    "        elif c < vert_asym:\n",
    "            quad += \"L\"\n",
    "        else:\n",
    "            continue\n",
    "        if len(quad) == 2:\n",
    "            quad_dic[quad] += [(c, r)]\n",
    "    return quad_dic"
   ]
  },
  {
   "cell_type": "code",
   "execution_count": 6,
   "metadata": {},
   "outputs": [],
   "source": [
    "def display_grid(grid):\n",
    "    for row in grid:\n",
    "        row = [str(val) for val in row]\n",
    "        row = [\".\" if val == \"0\" else val for val in row]\n",
    "        print(\"\".join(row))"
   ]
  },
  {
   "cell_type": "code",
   "execution_count": 7,
   "metadata": {},
   "outputs": [],
   "source": [
    "def get_result(file_name, n_rows, n_cols, seconds, d_grid=False):\n",
    "    robots = get_data(file_name)\n",
    "    grid, final_positions = get_final_positions(robots, n_rows, n_cols, seconds)\n",
    "    if d_grid: display_grid(grid)\n",
    "    quad_dic = get_quadrants(final_positions, n_rows, n_cols)\n",
    "    result = 1\n",
    "    for positions in quad_dic.values():\n",
    "        result *= len(positions)\n",
    "    return grid, result"
   ]
  },
  {
   "cell_type": "code",
   "execution_count": 8,
   "metadata": {},
   "outputs": [
    {
     "name": "stdout",
     "output_type": "stream",
     "text": [
      "......2..1.\n",
      "...........\n",
      "1..........\n",
      ".11........\n",
      ".....1.....\n",
      "...12......\n",
      ".1....1....\n"
     ]
    },
    {
     "data": {
      "text/plain": [
       "12"
      ]
     },
     "execution_count": 8,
     "metadata": {},
     "output_type": "execute_result"
    }
   ],
   "source": [
    "file_name = \"input_sample.txt\"\n",
    "grid, result = get_result(file_name, n_rows=7, n_cols=11, seconds=100, d_grid=True)\n",
    "result"
   ]
  },
  {
   "cell_type": "code",
   "execution_count": 9,
   "metadata": {},
   "outputs": [
    {
     "data": {
      "text/plain": [
       "224554908"
      ]
     },
     "execution_count": 9,
     "metadata": {},
     "output_type": "execute_result"
    }
   ],
   "source": [
    "file_name = \"input.txt\"\n",
    "grid, result = get_result(file_name, n_rows=103, n_cols=101, seconds=100)\n",
    "result"
   ]
  },
  {
   "cell_type": "markdown",
   "metadata": {},
   "source": [
    "Part 2"
   ]
  },
  {
   "cell_type": "code",
   "execution_count": 10,
   "metadata": {},
   "outputs": [],
   "source": [
    "from tqdm import tqdm"
   ]
  },
  {
   "cell_type": "code",
   "execution_count": 11,
   "metadata": {},
   "outputs": [],
   "source": [
    "def all_unique_positions(grid):\n",
    "    for row in grid:\n",
    "        if not set(row).issubset({\"1\", \"0\"}):\n",
    "            return False\n",
    "        return True"
   ]
  },
  {
   "cell_type": "code",
   "execution_count": 12,
   "metadata": {},
   "outputs": [
    {
     "name": "stderr",
     "output_type": "stream",
     "text": [
      "  0%|          | 0/10000 [00:00<?, ?it/s]"
     ]
    },
    {
     "name": "stderr",
     "output_type": "stream",
     "text": [
      " 94%|█████████▍| 9399/10000 [1:08:04<04:21,  2.30it/s]\n"
     ]
    },
    {
     "ename": "KeyboardInterrupt",
     "evalue": "",
     "output_type": "error",
     "traceback": [
      "\u001b[1;31m---------------------------------------------------------------------------\u001b[0m",
      "\u001b[1;31mKeyboardInterrupt\u001b[0m                         Traceback (most recent call last)",
      "Cell \u001b[1;32mIn[12], line 4\u001b[0m\n\u001b[0;32m      2\u001b[0m robots \u001b[38;5;241m=\u001b[39m get_data(file_name)\n\u001b[0;32m      3\u001b[0m \u001b[38;5;28;01mfor\u001b[39;00m i \u001b[38;5;129;01min\u001b[39;00m tqdm(\u001b[38;5;28mrange\u001b[39m(\u001b[38;5;241m10000\u001b[39m)):\n\u001b[1;32m----> 4\u001b[0m     grid, _ \u001b[38;5;241m=\u001b[39m \u001b[43mget_final_positions\u001b[49m\u001b[43m(\u001b[49m\u001b[43mrobots\u001b[49m\u001b[43m,\u001b[49m\u001b[43m \u001b[49m\u001b[43mn_rows\u001b[49m\u001b[38;5;241;43m=\u001b[39;49m\u001b[38;5;241;43m103\u001b[39;49m\u001b[43m,\u001b[49m\u001b[43m \u001b[49m\u001b[43mn_cols\u001b[49m\u001b[38;5;241;43m=\u001b[39;49m\u001b[38;5;241;43m101\u001b[39;49m\u001b[43m,\u001b[49m\u001b[43m \u001b[49m\u001b[43mseconds\u001b[49m\u001b[38;5;241;43m=\u001b[39;49m\u001b[43mi\u001b[49m\u001b[43m)\u001b[49m\n\u001b[0;32m      5\u001b[0m     \u001b[38;5;28;01mif\u001b[39;00m all_unique_positions(grid):\n\u001b[0;32m      6\u001b[0m         \u001b[38;5;28mprint\u001b[39m(\u001b[38;5;124mf\u001b[39m\u001b[38;5;124m\"\u001b[39m\u001b[38;5;130;01m\\n\u001b[39;00m\u001b[38;5;124m(Second \u001b[39m\u001b[38;5;132;01m{\u001b[39;00mi\u001b[38;5;132;01m}\u001b[39;00m\u001b[38;5;124m)\u001b[39m\u001b[38;5;124m\"\u001b[39m)\n",
      "Cell \u001b[1;32mIn[4], line 6\u001b[0m, in \u001b[0;36mget_final_positions\u001b[1;34m(robots, n_rows, n_cols, seconds)\u001b[0m\n\u001b[0;32m      4\u001b[0m \u001b[38;5;28;01mfor\u001b[39;00m pos, vel \u001b[38;5;129;01min\u001b[39;00m robots:\n\u001b[0;32m      5\u001b[0m     \u001b[38;5;28;01mfor\u001b[39;00m i \u001b[38;5;129;01min\u001b[39;00m \u001b[38;5;28mrange\u001b[39m(seconds):\\\n\u001b[1;32m----> 6\u001b[0m         pos \u001b[38;5;241m=\u001b[39m \u001b[43mnew_pos\u001b[49m\u001b[43m(\u001b[49m\u001b[43mpos\u001b[49m\u001b[43m,\u001b[49m\u001b[43m \u001b[49m\u001b[43mvel\u001b[49m\u001b[43m,\u001b[49m\u001b[43m \u001b[49m\u001b[43mn_rows\u001b[49m\u001b[43m,\u001b[49m\u001b[43m \u001b[49m\u001b[43mn_cols\u001b[49m\u001b[43m)\u001b[49m\n\u001b[0;32m      7\u001b[0m     final_positions\u001b[38;5;241m.\u001b[39mappend(pos)\n\u001b[0;32m      8\u001b[0m     grid[pos[\u001b[38;5;241m1\u001b[39m]][pos[\u001b[38;5;241m0\u001b[39m]] \u001b[38;5;241m+\u001b[39m\u001b[38;5;241m=\u001b[39m \u001b[38;5;241m1\u001b[39m\n",
      "Cell \u001b[1;32mIn[3], line 1\u001b[0m, in \u001b[0;36mnew_pos\u001b[1;34m(position, velocity, n_rows, n_cols)\u001b[0m\n\u001b[1;32m----> 1\u001b[0m \u001b[38;5;28;01mdef\u001b[39;00m \u001b[38;5;21mnew_pos\u001b[39m(position, velocity, n_rows, n_cols):\n\u001b[0;32m      2\u001b[0m     (c, r) \u001b[38;5;241m=\u001b[39m position\n\u001b[0;32m      3\u001b[0m     (vc, vr) \u001b[38;5;241m=\u001b[39m velocity \n",
      "\u001b[1;31mKeyboardInterrupt\u001b[0m: "
     ]
    }
   ],
   "source": [
    "file_name = \"input.txt\"\n",
    "robots = get_data(file_name)\n",
    "for i in tqdm(range(10000)):\n",
    "    grid, _ = get_final_positions(robots, n_rows=103, n_cols=101, seconds=i)\n",
    "    if all_unique_positions(grid):\n",
    "        print(f\"\\n(Second {i})\")\n",
    "        display_grid(grid) "
   ]
  },
  {
   "cell_type": "code",
   "execution_count": null,
   "metadata": {},
   "outputs": [],
   "source": [
    "def count_enclosed_positions(grid):\n",
    "    n_rows = len(grid)\n",
    "    n_cols = len(grid[0])\n",
    "    count = 0\n",
    "    for r in range(1, n_rows-1):\n",
    "        for c in range(1, n_cols-1):\n",
    "            if grid[r][c] != 0 and grid[r-1][c] != 0 and grid[r+1][c] != 0 and grid[r][c-1] != 0 and grid[r][c+1] != 0:\n",
    "                count += 1\n",
    "    return count"
   ]
  }
 ],
 "metadata": {
  "kernelspec": {
   "display_name": "Python 3",
   "language": "python",
   "name": "python3"
  },
  "language_info": {
   "codemirror_mode": {
    "name": "ipython",
    "version": 3
   },
   "file_extension": ".py",
   "mimetype": "text/x-python",
   "name": "python",
   "nbconvert_exporter": "python",
   "pygments_lexer": "ipython3",
   "version": "3.11.3"
  }
 },
 "nbformat": 4,
 "nbformat_minor": 2
}
