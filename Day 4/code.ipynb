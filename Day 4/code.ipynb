{
 "cells": [
  {
   "cell_type": "code",
   "execution_count": 149,
   "metadata": {},
   "outputs": [],
   "source": [
    "from collections import defaultdict"
   ]
  },
  {
   "cell_type": "code",
   "execution_count": 150,
   "metadata": {},
   "outputs": [],
   "source": [
    "def get_data(file_name):\n",
    "    with open(file_name, \"r\") as file:\n",
    "        text = file.read()\n",
    "    lines = text.split(\"\\n\")\n",
    "    grid = [list(line) for line in lines]\n",
    "    return grid"
   ]
  },
  {
   "cell_type": "code",
   "execution_count": 152,
   "metadata": {},
   "outputs": [],
   "source": [
    "def count_row_occurances(grid):\n",
    "    row_total_count = 0\n",
    "    for r, row in enumerate(grid):\n",
    "        string = \"\".join(row)\n",
    "        count = string.count(\"XMAS\") + string[::-1].count(\"XMAS\")\n",
    "        row_total_count += count\n",
    "    return row_total_count\n",
    "\n",
    "def count_col_occurances(grid):\n",
    "    col_total_count = 0\n",
    "    for i in range(len(grid[0])):\n",
    "        col = [row[i] for row in grid]\n",
    "        string = \"\".join(col)\n",
    "        count = string.count(\"XMAS\") + string[::-1].count(\"XMAS\")\n",
    "        col_total_count += count\n",
    "    return col_total_count\n",
    "\n",
    "def count_diag_occurances(grid, top_right=True):\n",
    "    n_rows = len(grid)\n",
    "    n_cols = len(grid[0])\n",
    "    diagonals = defaultdict(list)\n",
    "    for i in range(n_rows):\n",
    "        for j in range(n_cols):\n",
    "            if top_right==True:\n",
    "                diagonals[i-j].append(grid[i][j])\n",
    "            else:\n",
    "                diagonals[i+j].append(grid[i][j])\n",
    "    diag_total_count = 0\n",
    "    for k in sorted(diagonals.keys(), reverse=top_right):\n",
    "        diag = diagonals[k]\n",
    "        string = \"\".join(diag)\n",
    "        count = string.count(\"XMAS\") + string[::-1].count(\"XMAS\")\n",
    "        diag_total_count += count\n",
    "    return diag_total_count\n",
    "\n",
    "def get_grand_total(file_name):\n",
    "    grid = get_data(file_name)\n",
    "    row_count = count_row_occurances(grid)\n",
    "    col_count = count_col_occurances(grid)\n",
    "    diag1_count = count_diag_occurances(grid, top_right=True)\n",
    "    diag2_count = count_diag_occurances(grid, top_right=False)\n",
    "    grand_total = row_count + col_count + diag1_count + diag2_count\n",
    "    return grand_total"
   ]
  },
  {
   "cell_type": "code",
   "execution_count": 153,
   "metadata": {},
   "outputs": [
    {
     "data": {
      "text/plain": [
       "18"
      ]
     },
     "execution_count": 153,
     "metadata": {},
     "output_type": "execute_result"
    }
   ],
   "source": [
    "file_name = \"input_sample.txt\"\n",
    "get_grand_total(file_name)"
   ]
  },
  {
   "cell_type": "code",
   "execution_count": 154,
   "metadata": {},
   "outputs": [
    {
     "data": {
      "text/plain": [
       "2536"
      ]
     },
     "execution_count": 154,
     "metadata": {},
     "output_type": "execute_result"
    }
   ],
   "source": [
    "file_name = \"input.txt\"\n",
    "get_grand_total(file_name)"
   ]
  },
  {
   "cell_type": "markdown",
   "metadata": {},
   "source": [
    "Part 2"
   ]
  },
  {
   "cell_type": "code",
   "execution_count": 155,
   "metadata": {},
   "outputs": [],
   "source": [
    "def count_mas(grid, mas):\n",
    "\n",
    "    grid_rows = len(grid)\n",
    "    grid_cols = len(grid[0])\n",
    "    \n",
    "    mas_rows = len(mas)\n",
    "    mas_cols = len(mas[0])\n",
    "\n",
    "    diff_rows = grid_rows - mas_rows\n",
    "    diff_cols = grid_cols - mas_cols\n",
    "\n",
    "    mas_count = 0\n",
    "\n",
    "    for r in range(diff_rows + 1):\n",
    "        for c in range(diff_cols + 1):\n",
    "            if all(grid[r + x][c + y] == mas[x][y] or mas[x][y] is None \n",
    "                   for x in range(mas_rows) \n",
    "                   for y in range(mas_cols)):\n",
    "                mas_count += 1\n",
    "    \n",
    "    return mas_count"
   ]
  },
  {
   "cell_type": "code",
   "execution_count": 156,
   "metadata": {},
   "outputs": [],
   "source": [
    "def count_total_mas(file_name, mas):\n",
    "    grid = get_data(file_name)\n",
    "    upside_up = count_mas(grid, mas)\n",
    "    upside_down = count_mas(grid, [row[::-1] for row in mas])\n",
    "    rotate_right = count_mas(grid, list(zip(*mas)))\n",
    "    rotate_left = count_mas(grid, list(zip(*mas))[::-1])\n",
    "    return upside_up + upside_down + rotate_right + rotate_left"
   ]
  },
  {
   "cell_type": "code",
   "execution_count": 157,
   "metadata": {},
   "outputs": [],
   "source": [
    "mas =   [[\"M\", None, \"S\"],\n",
    "        [None, \"A\", None],\n",
    "        [\"M\", None, \"S\"]]"
   ]
  },
  {
   "cell_type": "code",
   "execution_count": 158,
   "metadata": {},
   "outputs": [
    {
     "data": {
      "text/plain": [
       "9"
      ]
     },
     "execution_count": 158,
     "metadata": {},
     "output_type": "execute_result"
    }
   ],
   "source": [
    "file_name = \"input_sample2.txt\"\n",
    "count_total_mas(file_name, mas)"
   ]
  },
  {
   "cell_type": "code",
   "execution_count": 159,
   "metadata": {},
   "outputs": [
    {
     "data": {
      "text/plain": [
       "1875"
      ]
     },
     "execution_count": 159,
     "metadata": {},
     "output_type": "execute_result"
    }
   ],
   "source": [
    "file_name = \"input.txt\"\n",
    "count_total_mas(file_name, mas) "
   ]
  },
  {
   "cell_type": "code",
   "execution_count": null,
   "metadata": {},
   "outputs": [],
   "source": []
  }
 ],
 "metadata": {
  "kernelspec": {
   "display_name": "Python 3",
   "language": "python",
   "name": "python3"
  },
  "language_info": {
   "codemirror_mode": {
    "name": "ipython",
    "version": 3
   },
   "file_extension": ".py",
   "mimetype": "text/x-python",
   "name": "python",
   "nbconvert_exporter": "python",
   "pygments_lexer": "ipython3",
   "version": "3.11.3"
  }
 },
 "nbformat": 4,
 "nbformat_minor": 2
}
