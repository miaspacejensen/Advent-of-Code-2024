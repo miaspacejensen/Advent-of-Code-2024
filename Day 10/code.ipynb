{
 "cells": [
  {
   "cell_type": "code",
   "execution_count": 33,
   "metadata": {},
   "outputs": [],
   "source": [
    "def get_data(file_name):\n",
    "    with open(file_name, \"r\") as file:\n",
    "        text = file.read()\n",
    "    lines = text.split(\"\\n\")\n",
    "    grid = [list(line) for line in lines]\n",
    "    return grid "
   ]
  },
  {
   "cell_type": "code",
   "execution_count": 34,
   "metadata": {},
   "outputs": [],
   "source": [
    "def grid_to_adjacency_matrix(grid, directions):\n",
    "    n_rows = len(grid)\n",
    "    n_cols = len(grid[0])\n",
    "    conn_graph = {}\n",
    "    for r, row in enumerate(grid):\n",
    "        for c, col in enumerate(row):\n",
    "            pos = (r, c)\n",
    "            neighbours = []\n",
    "            for dr, dc in directions:\n",
    "                new_r = r + dr\n",
    "                new_c = c + dc\n",
    "                if 0 <= new_r < n_rows and 0 <= new_c < n_cols:\n",
    "                    if grid[new_r][new_c] != \".\":\n",
    "                        neighbours.append((new_r, new_c))\n",
    "            if grid[r][c]!=\".\" and neighbours:\n",
    "                conn_graph[pos] = neighbours\n",
    "    return conn_graph"
   ]
  },
  {
   "cell_type": "code",
   "execution_count": null,
   "metadata": {},
   "outputs": [],
   "source": [
    "def get_valid_paths(grid, conn_graph, start_pos):\n",
    "    all_visited = []\n",
    "    def dfs(conn_graph, current_node, visited):\n",
    "        visited.append(current_node)\n",
    "        r, c = current_node\n",
    "        current_val = int(grid[r][c])\n",
    "        for node in conn_graph[current_node]:\n",
    "            nr, nc = node\n",
    "            if node not in visited:\n",
    "                if int(grid[nr][nc]) == current_val + 1:\n",
    "                    dfs(conn_graph, node, visited.copy())\n",
    "        if current_val == 9:\n",
    "            all_visited.append(visited)\n",
    "    dfs(conn_graph, start_pos, [])\n",
    "    return all_visited"
   ]
  },
  {
   "cell_type": "code",
   "execution_count": null,
   "metadata": {},
   "outputs": [],
   "source": [
    "def get_all_paths(file_name, show_graph=False):\n",
    "    grid = get_data(file_name)\n",
    "    directions = [(0, 1), (0,-1), (1, 0), (-1, 0)]\n",
    "    conn_graph = grid_to_adjacency_matrix(grid, directions)\n",
    "    if show_graph: display(conn_graph)\n",
    "    start_positions = [(r, c) for r, row in enumerate(grid) for c, val in enumerate(row) if val == \"0\"]\n",
    "    all_paths = {}\n",
    "    for start_pos in start_positions:\n",
    "        all_paths[start_pos] = get_valid_paths(grid, conn_graph, start_pos)\n",
    "    return all_paths"
   ]
  },
  {
   "cell_type": "code",
   "execution_count": 106,
   "metadata": {},
   "outputs": [],
   "source": [
    "def get_total_score(file_name):\n",
    "    all_paths = get_all_paths(file_name)\n",
    "    scores = {}\n",
    "    for start_pos, paths in all_paths.items():\n",
    "        scores[start_pos] = len(set([path[-1] for path in paths]))\n",
    "    return sum(scores.values())"
   ]
  },
  {
   "cell_type": "code",
   "execution_count": 109,
   "metadata": {},
   "outputs": [
    {
     "data": {
      "text/plain": [
       "36"
      ]
     },
     "execution_count": 109,
     "metadata": {},
     "output_type": "execute_result"
    }
   ],
   "source": [
    "file_name = \"input_sample5.txt\"\n",
    "get_total_score(file_name)"
   ]
  },
  {
   "cell_type": "code",
   "execution_count": 108,
   "metadata": {},
   "outputs": [
    {
     "data": {
      "text/plain": [
       "811"
      ]
     },
     "execution_count": 108,
     "metadata": {},
     "output_type": "execute_result"
    }
   ],
   "source": [
    "file_name = \"input.txt\"\n",
    "get_total_score(file_name)"
   ]
  },
  {
   "cell_type": "markdown",
   "metadata": {},
   "source": [
    "Part 2"
   ]
  },
  {
   "cell_type": "code",
   "execution_count": 131,
   "metadata": {},
   "outputs": [],
   "source": [
    "def get_distinct_paths(file_name):\n",
    "    all_paths = get_all_paths(file_name)\n",
    "    distinct_paths = []\n",
    "    for paths in all_paths.values():\n",
    "        for path in paths:\n",
    "            if path not in distinct_paths:\n",
    "                distinct_paths.append(path)\n",
    "    return len(distinct_paths)"
   ]
  },
  {
   "cell_type": "code",
   "execution_count": 132,
   "metadata": {},
   "outputs": [
    {
     "data": {
      "text/plain": [
       "3"
      ]
     },
     "execution_count": 132,
     "metadata": {},
     "output_type": "execute_result"
    }
   ],
   "source": [
    "file_name = \"input_sample6.txt\"\n",
    "get_distinct_paths(file_name)"
   ]
  },
  {
   "cell_type": "code",
   "execution_count": 133,
   "metadata": {},
   "outputs": [
    {
     "data": {
      "text/plain": [
       "13"
      ]
     },
     "execution_count": 133,
     "metadata": {},
     "output_type": "execute_result"
    }
   ],
   "source": [
    "file_name = \"input_sample3.txt\"\n",
    "get_distinct_paths(file_name)"
   ]
  },
  {
   "cell_type": "code",
   "execution_count": 134,
   "metadata": {},
   "outputs": [
    {
     "data": {
      "text/plain": [
       "227"
      ]
     },
     "execution_count": 134,
     "metadata": {},
     "output_type": "execute_result"
    }
   ],
   "source": [
    "file_name = \"input_sample7.txt\"\n",
    "get_distinct_paths(file_name)"
   ]
  },
  {
   "cell_type": "code",
   "execution_count": 135,
   "metadata": {},
   "outputs": [
    {
     "data": {
      "text/plain": [
       "81"
      ]
     },
     "execution_count": 135,
     "metadata": {},
     "output_type": "execute_result"
    }
   ],
   "source": [
    "file_name = \"input_sample5.txt\"\n",
    "get_distinct_paths(file_name)"
   ]
  },
  {
   "cell_type": "code",
   "execution_count": 136,
   "metadata": {},
   "outputs": [
    {
     "data": {
      "text/plain": [
       "1794"
      ]
     },
     "execution_count": 136,
     "metadata": {},
     "output_type": "execute_result"
    }
   ],
   "source": [
    "file_name = \"input.txt\"\n",
    "get_distinct_paths(file_name)"
   ]
  }
 ],
 "metadata": {
  "kernelspec": {
   "display_name": "Python 3",
   "language": "python",
   "name": "python3"
  },
  "language_info": {
   "codemirror_mode": {
    "name": "ipython",
    "version": 3
   },
   "file_extension": ".py",
   "mimetype": "text/x-python",
   "name": "python",
   "nbconvert_exporter": "python",
   "pygments_lexer": "ipython3",
   "version": "3.11.3"
  }
 },
 "nbformat": 4,
 "nbformat_minor": 2
}
